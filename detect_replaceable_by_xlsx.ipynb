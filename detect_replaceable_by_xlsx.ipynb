{
 "cells": [
  {
   "cell_type": "code",
   "execution_count": 1,
   "id": "952f131c-5c21-4cd9-bcf3-754ef6fadc78",
   "metadata": {},
   "outputs": [],
   "source": [
    "# 通过意见表的意见，遍历文档找到仅出现一次的case，生成一个mark csv，即标志为科研通过code自动替换的。方便后面进行人工审核。\n",
    "import csv\n",
    "import docx\n",
    "import xlrd\n",
    "from tqdm import tqdm\n",
    "import utils"
   ]
  },
  {
   "cell_type": "code",
   "execution_count": 2,
   "id": "c2cdc950-cd65-4ce6-8fb0-726b6b55917b",
   "metadata": {},
   "outputs": [],
   "source": [
    "# config\n",
    "xlsx_path = '/mnt/c/Users/gray/seadrive_root/mail_1/我的资料库/mine/STANDARD/第三次会议/ALL2.xlsx'\n",
    "\n",
    "# in_path = '/home/gray/desktop/STANDARD/test2.docx' # example\n",
    "in_path = '/mnt/c/Users/gray/seadrive_root/mail_1/我的资料库/mine/STANDARD/第三次会议/11.11.docx'\n",
    "\n",
    "out_path = '/mnt/c/Users/gray/seadrive_root/mail_1/我的资料库/mine/STANDARD/第三次会议/out.docx'\n",
    "\n",
    "doc = docx.Document(in_path)"
   ]
  },
  {
   "cell_type": "code",
   "execution_count": 3,
   "id": "aaa39c10-70a3-41c0-b86f-18de9c8bc0ed",
   "metadata": {},
   "outputs": [],
   "source": [
    "# init replace dicts\n",
    "replace = {}\n",
    "replace_table = {}\n",
    "\n",
    "workbook = xlrd.open_workbook(filename=xlsx_path)\n",
    "worksheet = workbook.sheet_by_name(workbook.sheet_names()[0])"
   ]
  },
  {
   "cell_type": "code",
   "execution_count": 4,
   "id": "24a330a2-713a-44d9-a616-4e53a658dd23",
   "metadata": {},
   "outputs": [],
   "source": [
    "for i in range(3, worksheet.nrows):\n",
    "    row = worksheet.row_values(i)\n",
    "#     sec_num = utils.get_sec_num(str(row[1]))\n",
    "    sec_num = utils.get_sec_num_new(str(row[1]),from_head=True)\n",
    "    \n",
    "    pre_result = row[7]  # 0 -> deny, 1-> yes\n",
    "    discuss = row[8]  # discuss flag\n",
    "    global_index = row[10]\n",
    "    \n",
    "    if discuss != 1 and pre_result != 0:  # 即 没有需要讨论 且 没有被拒绝\n",
    "        if sec_num is not None:  # \n",
    "            # tmp solution: self-increment for a new added-in section\n",
    "            tmp_s = [int(x) for x in sec_num.split('.')]\n",
    "            tmp_s[0] += 1\n",
    "\n",
    "            sec_num = \".\".join([str(x) for x in tmp_s])\n",
    "            \n",
    "            if sec_num not in replace.keys():\n",
    "                replace[sec_num] = []\n",
    "            replace[sec_num].append((row[2],row[3],row[10]))  # sec_num : (before, after, index)\n",
    "        else:  # for table\n",
    "            replace_table[row[2]] = (row[3],row[10])  # before : (after, index)"
   ]
  },
  {
   "cell_type": "code",
   "execution_count": 5,
   "id": "a472fb25-46a2-4b8e-9823-5c935b91839b",
   "metadata": {
    "scrolled": true,
    "tags": []
   },
   "outputs": [],
   "source": [
    "# for k,v in replace.items():\n",
    "#     for vv in v:\n",
    "#         if vv[0] == '使用外部存储或是本地与外部混合的存储的系统称为存储虚拟化。':\n",
    "#             print(k,vv)\n",
    "# #             kk = k\n",
    "#             break"
   ]
  },
  {
   "cell_type": "code",
   "execution_count": 6,
   "id": "71f05430-5dc8-4923-bcee-1e88d1191369",
   "metadata": {},
   "outputs": [
    {
     "name": "stdout",
     "output_type": "stream",
     "text": [
      "len of replace in text 392\n",
      "len of replace in text 72\n"
     ]
    }
   ],
   "source": [
    "# stat info\n",
    "len_replace = 0\n",
    "for v in replace.values():\n",
    "    len_replace += len(v)\n",
    "print(\"len of replace in text\",len_replace)\n",
    "print(\"len of replace in text\",len(replace_table))"
   ]
  },
  {
   "cell_type": "code",
   "execution_count": 7,
   "id": "cb326b68-a049-4b19-9b00-d93e62f90ffc",
   "metadata": {
    "scrolled": true,
    "tags": []
   },
   "outputs": [
    {
     "name": "stderr",
     "output_type": "stream",
     "text": [
      "100%|████████████████████████████████████████████████████████████████████████| 12046/12046 [00:50<00:00, 238.08it/s]\n"
     ]
    }
   ],
   "source": [
    "# replace里存的是xlsx里的替换规则\n",
    "# ！！！！！！不check sec了，做全文的！！！！！！\n",
    "replace_global = []\n",
    "for v in replace.values():\n",
    "    replace_global += v\n",
    "\n",
    "# print(len(replace_global))\n",
    "# print(replace_global[:10])\n",
    "found = {}\n",
    "for para in tqdm(list(doc.paragraphs)):\n",
    "        for a,b,index in replace_global:\n",
    "            if a != '' and a in para.text:\n",
    "                if az not in found.keys():\n",
    "                    found[a] = [0,b,index]\n",
    "                found[a][0] += 1"
   ]
  },
  {
   "cell_type": "code",
   "execution_count": 16,
   "id": "da674463-3ca6-4b9f-9784-3a487b6fa3be",
   "metadata": {},
   "outputs": [
    {
     "data": {
      "text/plain": [
       "True"
      ]
     },
     "execution_count": 16,
     "metadata": {},
     "output_type": "execute_result"
    }
   ],
   "source": [
    "key = \"块服务中定义的空StoragePool，并添加了“空间限制”，“空间限制确定”和ThinProvisionMetaDataSpace属性。\"\n",
    "\n",
    "key in [i[0] for i in replace_global]\n",
    "\n",
    "# for para in tqdm(list(doc.paragraphs)):\n",
    "#     if key in para.text:\n",
    "#         print(para.text)\n",
    "#         break"
   ]
  },
  {
   "cell_type": "code",
   "execution_count": 79,
   "id": "b88b0b27-edb7-4f11-8106-0dfdd6c6d0b6",
   "metadata": {
    "scrolled": true,
    "tags": []
   },
   "outputs": [
    {
     "name": "stderr",
     "output_type": "stream",
     "text": [
      "100%|████████████████████████████████████████████████████████████████████████| 12046/12046 [00:36<00:00, 332.45it/s]\n"
     ]
    }
   ],
   "source": [
    "# # !!!!!这个是做sec内部只出现了一次的。\n",
    "# # 搜索段落 每个只关联自己section内部（即section内部只出现一次）\n",
    "# found = {}  # 格式 \"before : [show_counter, index]\"\n",
    "# # search in paragraphs\n",
    "# # now_sec = ''\n",
    "# for para in tqdm(list(doc.paragraphs)):\n",
    "#     # update sec_num\n",
    "    \n",
    "# #     sec_num = utils.get_sec_num(para.text)\n",
    "# #     if sec_num is not None:\n",
    "# #         now_sec = sec_num\n",
    "# #     if now_sec == '':\n",
    "# #         continue\n",
    "# #     if now_sec not in replace.keys():\n",
    "# #         continue\n",
    "\n",
    "#     for sec in replace.keys():\n",
    "#         for a,b,index in replace[sec]:\n",
    "#             if a != '' and a in para.text:\n",
    "#                 if a not in found.keys():\n",
    "#                     found[a] = [0,b,index]\n",
    "#                 found[a][0] += 1"
   ]
  },
  {
   "cell_type": "code",
   "execution_count": 12,
   "id": "9587f7ca-658d-4a39-a1f8-ef81cc53af31",
   "metadata": {},
   "outputs": [
    {
     "name": "stderr",
     "output_type": "stream",
     "text": [
      "100%|█████████████████████████████████████████████████████████████████████████████| 723/723 [00:18<00:00, 38.28it/s]\n"
     ]
    }
   ],
   "source": [
    "# 搜索表格\n",
    "found_table = {}  # 格式 \"before : [counter, afer, index]\"\n",
    "for table_index in tqdm(range(len(list(doc.tables)))):\n",
    "# for table_index in tqdm(range(len(list(doc.tables)))[10:]):\n",
    "    table = doc.tables[table_index]\n",
    "    for row in table.rows:\n",
    "        for cell in row.cells:\n",
    "            for para in cell.paragraphs:\n",
    "                for a,b in replace_table.items():\n",
    "                    if a!='' and a in para.text:\n",
    "                        if a not in found_table.keys():\n",
    "                            found_table[a] = [0]+list(b)\n",
    "                        found_table[a][0] += 1\n",
    "# print(found_table)"
   ]
  },
  {
   "cell_type": "code",
   "execution_count": 13,
   "id": "99e413e5-87f6-4ca6-a723-98f4c8d28103",
   "metadata": {},
   "outputs": [
    {
     "name": "stdout",
     "output_type": "stream",
     "text": [
      "216\n",
      "38\n"
     ]
    }
   ],
   "source": [
    "# search有匹配的数量\n",
    "print(len(found))\n",
    "print(len(found_table))"
   ]
  },
  {
   "cell_type": "code",
   "execution_count": 18,
   "id": "33168bd4-c4fd-4865-90a8-048852023bcf",
   "metadata": {
    "scrolled": true,
    "tags": []
   },
   "outputs": [
    {
     "data": {
      "text/plain": [
       "[1,\n",
       " '块服务中定义的空StoragePool，添加了SpaceLimit、SpaceLimitDetermination和ThinProvisionMetaDataSpace属性 ',\n",
       " 572.0]"
      ]
     },
     "execution_count": 18,
     "metadata": {},
     "output_type": "execute_result"
    }
   ],
   "source": [
    "found[key]"
   ]
  },
  {
   "cell_type": "code",
   "execution_count": 24,
   "id": "79cb1648-46d4-4d04-90eb-9349d72b9393",
   "metadata": {},
   "outputs": [
    {
     "name": "stdout",
     "output_type": "stream",
     "text": [
      "219\n",
      "[11.0, 14.0, 15.0, 16.0, 17.0, 31.0, 42.0, 43.0, 45.0, 46.0]\n"
     ]
    }
   ],
   "source": [
    "# 找到只出现一次的\n",
    "indexes = []\n",
    "for k,v in found.items():\n",
    "    if v[0] ==  1:\n",
    "        indexes.append(v[2])\n",
    "\n",
    "for k,v in found_table.items():\n",
    "    if v[0] <= 1:\n",
    "        indexes.append(v[2])\n",
    "        \n",
    "print(len(indexes))\n",
    "print(sorted(indexes)[:10])"
   ]
  },
  {
   "cell_type": "code",
   "execution_count": 25,
   "id": "6086f2c5-3e62-4c62-8e0d-474cf1140e47",
   "metadata": {
    "scrolled": true,
    "tags": []
   },
   "outputs": [
    {
     "data": {
      "text/plain": [
       "[11.0,\n",
       " 14.0,\n",
       " 15.0,\n",
       " 16.0,\n",
       " 17.0,\n",
       " 31.0,\n",
       " 42.0,\n",
       " 43.0,\n",
       " 45.0,\n",
       " 46.0,\n",
       " 47.0,\n",
       " 48.0,\n",
       " 51.0,\n",
       " 52.0,\n",
       " 53.0,\n",
       " 61.0,\n",
       " 62.0,\n",
       " 63.0,\n",
       " 64.0,\n",
       " 65.0,\n",
       " 66.0,\n",
       " 71.0,\n",
       " 93.0,\n",
       " 94.0,\n",
       " 98.0,\n",
       " 108.0,\n",
       " 112.0,\n",
       " 121.0,\n",
       " 131.0,\n",
       " 141.0,\n",
       " 146.0,\n",
       " 153.0,\n",
       " 158.0,\n",
       " 170.0,\n",
       " 171.0,\n",
       " 172.0,\n",
       " 173.0,\n",
       " 176.0,\n",
       " 177.0,\n",
       " 178.0,\n",
       " 179.0,\n",
       " 180.0,\n",
       " 181.0,\n",
       " 182.0,\n",
       " 185.0,\n",
       " 186.0,\n",
       " 187.0,\n",
       " 188.0,\n",
       " 190.0,\n",
       " 193.0,\n",
       " 196.0,\n",
       " 199.0,\n",
       " 203.0,\n",
       " 206.0,\n",
       " 207.0,\n",
       " 208.0,\n",
       " 209.0,\n",
       " 211.0,\n",
       " 216.0,\n",
       " 218.0,\n",
       " 219.0,\n",
       " 221.0,\n",
       " 222.0,\n",
       " 229.0,\n",
       " 230.0,\n",
       " 231.0,\n",
       " 237.0,\n",
       " 243.0,\n",
       " 244.0,\n",
       " 248.0,\n",
       " 251.0,\n",
       " 253.0,\n",
       " 254.0,\n",
       " 255.0,\n",
       " 257.0,\n",
       " 261.0,\n",
       " 263.0,\n",
       " 264.0,\n",
       " 265.0,\n",
       " 266.0,\n",
       " 267.0,\n",
       " 268.0,\n",
       " 270.0,\n",
       " 273.0,\n",
       " 274.0,\n",
       " 276.0,\n",
       " 279.0,\n",
       " 280.0,\n",
       " 281.0,\n",
       " 282.0,\n",
       " 283.0,\n",
       " 284.0,\n",
       " 285.0,\n",
       " 288.0,\n",
       " 291.0,\n",
       " 295.0,\n",
       " 296.0,\n",
       " 297.0,\n",
       " 298.0,\n",
       " 299.0,\n",
       " 302.0,\n",
       " 305.0,\n",
       " 310.0,\n",
       " 311.0,\n",
       " 323.0,\n",
       " 325.0,\n",
       " 327.0,\n",
       " 330.0,\n",
       " 331.0,\n",
       " 334.0,\n",
       " 335.0,\n",
       " 336.0,\n",
       " 341.0,\n",
       " 344.0,\n",
       " 345.0,\n",
       " 346.0,\n",
       " 353.0,\n",
       " 356.0,\n",
       " 357.0,\n",
       " 358.0,\n",
       " 365.0,\n",
       " 366.0,\n",
       " 367.0,\n",
       " 371.0,\n",
       " 373.0,\n",
       " 374.0,\n",
       " 375.0,\n",
       " 376.0,\n",
       " 377.0,\n",
       " 378.0,\n",
       " 379.0,\n",
       " 380.0,\n",
       " 381.0,\n",
       " 382.0,\n",
       " 384.0,\n",
       " 385.0,\n",
       " 387.0,\n",
       " 389.0,\n",
       " 391.0,\n",
       " 394.0,\n",
       " 395.0,\n",
       " 396.0,\n",
       " 397.0,\n",
       " 398.0,\n",
       " 400.0,\n",
       " 405.0,\n",
       " 416.0,\n",
       " 418.0,\n",
       " 419.0,\n",
       " 420.0,\n",
       " 421.0,\n",
       " 422.0,\n",
       " 423.0,\n",
       " 424.0,\n",
       " 425.0,\n",
       " 427.0,\n",
       " 440.0,\n",
       " 441.0,\n",
       " 451.0,\n",
       " 452.0,\n",
       " 454.0,\n",
       " 479.0,\n",
       " 480.0,\n",
       " 482.0,\n",
       " 483.0,\n",
       " 485.0,\n",
       " 486.0,\n",
       " 490.0,\n",
       " 491.0,\n",
       " 492.0,\n",
       " 501.0,\n",
       " 503.0,\n",
       " 505.0,\n",
       " 507.0,\n",
       " 509.0,\n",
       " 510.0,\n",
       " 511.0,\n",
       " 512.0,\n",
       " 513.0,\n",
       " 514.0,\n",
       " 515.0,\n",
       " 516.0,\n",
       " 517.0,\n",
       " 520.0,\n",
       " 522.0,\n",
       " 523.0,\n",
       " 524.0,\n",
       " 525.0,\n",
       " 526.0,\n",
       " 527.0,\n",
       " 528.0,\n",
       " 530.0,\n",
       " 531.0,\n",
       " 532.0,\n",
       " 533.0,\n",
       " 536.0,\n",
       " 537.0,\n",
       " 538.0,\n",
       " 539.0,\n",
       " 540.0,\n",
       " 541.0,\n",
       " 542.0,\n",
       " 544.0,\n",
       " 546.0,\n",
       " 550.0,\n",
       " 572.0,\n",
       " 573.0,\n",
       " 574.0,\n",
       " 575.0,\n",
       " 577.0,\n",
       " 578.0,\n",
       " 579.0,\n",
       " 580.0,\n",
       " 581.0,\n",
       " 583.0,\n",
       " 584.0,\n",
       " 596.0,\n",
       " 598.0,\n",
       " 599.0]"
      ]
     },
     "execution_count": 25,
     "metadata": {},
     "output_type": "execute_result"
    }
   ],
   "source": [
    "sorted(indexes)"
   ]
  },
  {
   "cell_type": "code",
   "execution_count": 26,
   "id": "aa2a7eaa-efc9-42f5-8dc0-b54a5f522c48",
   "metadata": {},
   "outputs": [],
   "source": [
    "indexes_sorted = sorted([int(i) for i in indexes])\n",
    "data = []\n",
    "for i in range(1,int(indexes_sorted[-1])+1):\n",
    "    if i in indexes_sorted:\n",
    "        data.append([1])\n",
    "    else:\n",
    "        data.append([])"
   ]
  },
  {
   "cell_type": "code",
   "execution_count": 27,
   "id": "5f39a7c0-7496-40b1-97d5-6f8f1d4c2cf2",
   "metadata": {},
   "outputs": [],
   "source": [
    "# please merge this detect results to xlsx manually\n",
    "with open('/home/gray/desktop/detect.csv', 'w') as file:\n",
    "    writer = csv.writer(file)\n",
    "    writer.writerows(data)"
   ]
  },
  {
   "cell_type": "code",
   "execution_count": 18,
   "id": "cc959236-b26c-4d18-b524-595a29d0dd7c",
   "metadata": {},
   "outputs": [],
   "source": [
    "# -------------------------------below is for testing------------------------------------------------"
   ]
  },
  {
   "cell_type": "code",
   "execution_count": 78,
   "id": "2c5a6372-1e17-4c77-a4c9-1b9f579b7373",
   "metadata": {
    "scrolled": true,
    "tags": []
   },
   "outputs": [
    {
     "name": "stderr",
     "output_type": "stream",
     "text": [
      "100%|██████████████████████████████████████████████████████████████████████| 12046/12046 [00:00<00:00, 44714.16it/s]"
     ]
    },
    {
     "name": "stdout",
     "output_type": "stream",
     "text": [
      "阵列配置文件描述了独立冗余磁盘阵列(RAID)系统。这个配置文件描述的RAID系统是独立的，它使用本地磁盘来存储数据。使用外部存储或是本地与外部混合的存储的系统称为存储虚拟化。插入到底板或是母板的系统应该使用主机硬件RAID。该文件见第7部分主机元素。另外，为支持广域网存储管理，阵列配置文件定义了RAID系统配置服务代理（service agent，SA）,和向S-P2PN中的管理节点（directory agent, DA）注册和注销的操作。\n"
     ]
    },
    {
     "name": "stderr",
     "output_type": "stream",
     "text": [
      "\n"
     ]
    }
   ],
   "source": [
    "now_sec = ''\n",
    "for para in tqdm(list(doc.paragraphs)):\n",
    "    sec_num = utils.get_sec_num(para.text)\n",
    "    if sec_num is not None:\n",
    "        now_sec = sec_num\n",
    "    if now_sec == '':\n",
    "        continue\n",
    "    if \"插入到底板或是母板的系统应该使用主机硬件RAID。\" in para.text:\n",
    "        print(para.text)\n",
    "#         break\n",
    "    "
   ]
  },
  {
   "cell_type": "code",
   "execution_count": 22,
   "id": "5e0f608c-4f3c-410b-8bed-279a273af824",
   "metadata": {},
   "outputs": [
    {
     "data": {
      "text/plain": [
       "'4.1.2'"
      ]
     },
     "execution_count": 22,
     "metadata": {},
     "output_type": "execute_result"
    }
   ],
   "source": [
    "now_sec"
   ]
  },
  {
   "cell_type": "code",
   "execution_count": 23,
   "id": "aacb90eb-51be-410a-85e4-ddd0466ba46a",
   "metadata": {},
   "outputs": [
    {
     "data": {
      "text/plain": [
       "'4.1.2'"
      ]
     },
     "execution_count": 23,
     "metadata": {},
     "output_type": "execute_result"
    }
   ],
   "source": [
    "utils.get_sec_num(\"4.1.2 概述\")"
   ]
  },
  {
   "cell_type": "code",
   "execution_count": null,
   "id": "5896559e-9658-4f0b-a41d-77777eb8503d",
   "metadata": {},
   "outputs": [],
   "source": []
  }
 ],
 "metadata": {
  "kernelspec": {
   "display_name": "Python 3 (ipykernel)",
   "language": "python",
   "name": "python3"
  },
  "language_info": {
   "codemirror_mode": {
    "name": "ipython",
    "version": 3
   },
   "file_extension": ".py",
   "mimetype": "text/x-python",
   "name": "python",
   "nbconvert_exporter": "python",
   "pygments_lexer": "ipython3",
   "version": "3.8.5"
  }
 },
 "nbformat": 4,
 "nbformat_minor": 5
}
