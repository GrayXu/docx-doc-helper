{
 "cells": [
  {
   "cell_type": "code",
   "execution_count": 1,
   "id": "952f131c-5c21-4cd9-bcf3-754ef6fadc78",
   "metadata": {},
   "outputs": [],
   "source": [
    "# 通过意见表的意见，遍历文档找到仅出现一次的case，生成一个mark csv，即标志为科研通过code自动替换的。方便后面进行人工审核。\n",
    "import csv\n",
    "import docx\n",
    "import xlrd\n",
    "from tqdm import tqdm\n",
    "import utils"
   ]
  },
  {
   "cell_type": "code",
   "execution_count": 2,
   "id": "c2cdc950-cd65-4ce6-8fb0-726b6b55917b",
   "metadata": {},
   "outputs": [],
   "source": [
    "# config\n",
    "xlsx_path = '/mnt/c/Users/gray/seadrive_root/mail_1/我的资料库/mine/STANDARD/第四次会议/ALL.xlsx'\n",
    "\n",
    "# in_path = '/home/gray/desktop/STANDARD/test2.docx' # example\n",
    "in_path = '/mnt/c/Users/gray/seadrive_root/mail_1/我的资料库/mine/STANDARD/第四次会议/2.6.docx'\n",
    "\n",
    "out_path = '/mnt/c/Users/gray/seadrive_root/mail_1/我的资料库/mine/STANDARD/第四次会议/out.docx'\n",
    "\n",
    "doc = docx.Document(in_path)"
   ]
  },
  {
   "cell_type": "code",
   "execution_count": 27,
   "id": "aaa39c10-70a3-41c0-b86f-18de9c8bc0ed",
   "metadata": {},
   "outputs": [],
   "source": [
    "# init replace dicts\n",
    "replace = {}\n",
    "replace_table = {}\n",
    "\n",
    "workbook = xlrd.open_workbook(filename=xlsx_path)\n",
    "worksheet = workbook.sheet_by_name(workbook.sheet_names()[0])"
   ]
  },
  {
   "cell_type": "code",
   "execution_count": 28,
   "id": "9abc614f-6296-4967-9b03-4dcbb4d69a6a",
   "metadata": {},
   "outputs": [
    {
     "name": "stdout",
     "output_type": "stream",
     "text": [
      "0 序号\n",
      "1 标准章条编号\n",
      "2 修改内容\n",
      "3 \n",
      "4 提出单位\n",
      "5 处理意见及理由\n",
      "6 备注\n",
      "7 程序可处理\n",
      "8 \n",
      "9 \n",
      "10 global index\n"
     ]
    }
   ],
   "source": [
    "row = worksheet.row_values(0)\n",
    "for i in range(11):\n",
    "    print(i, row[i])"
   ]
  },
  {
   "cell_type": "code",
   "execution_count": 29,
   "id": "24a330a2-713a-44d9-a616-4e53a658dd23",
   "metadata": {},
   "outputs": [
    {
     "name": "stderr",
     "output_type": "stream",
     "text": [
      "100%|█████████████████████████████████████████████████████████████████████████████████████████████████████████████████| 473/473 [00:00<00:00, 251127.32it/s]\n"
     ]
    }
   ],
   "source": [
    "for i in tqdm(range(3, worksheet.nrows)):\n",
    "    row = worksheet.row_values(i)\n",
    "#     sec_num = utils.get_sec_num(str(row[1]))\n",
    "    sec_num = utils.get_sec_num_new(str(row[1]),from_head=True)\n",
    "    \n",
    "    pre_result = row[7]  # 0 -> deny, 1-> yes\n",
    "    discuss = row[8]  # discuss flag\n",
    "    before = str(row[2])\n",
    "    after = str(row[3])\n",
    "    global_index = row[10]\n",
    "    \n",
    "    if before == '':  # empty line\n",
    "        continue\n",
    "        \n",
    "#     global_index = row[0]\n",
    "    \n",
    "    if discuss != 1 and pre_result != 0:  # 即 没有需要讨论 且 没有被拒绝\n",
    "        if sec_num is not None:  # \n",
    "            # tmp solution: self-increment for a new added-in section\n",
    "            tmp_s = [int(x) for x in sec_num.split('.')]\n",
    "            tmp_s[0] += 1\n",
    "\n",
    "            sec_num = \".\".join([str(x) for x in tmp_s])\n",
    "            \n",
    "            if sec_num not in replace.keys():\n",
    "                replace[sec_num] = []\n",
    "            replace[sec_num].append((before,after,global_index))  # sec_num : (before, after, index)\n",
    "        else:  # for table\n",
    "            replace_table[before] = (after,global_index)  # before : (after, index)"
   ]
  },
  {
   "cell_type": "code",
   "execution_count": 30,
   "id": "a472fb25-46a2-4b8e-9823-5c935b91839b",
   "metadata": {
    "scrolled": true,
    "tags": []
   },
   "outputs": [],
   "source": [
    "# for k,v in replace.items():\n",
    "#     for vv in v:\n",
    "#         if vv[0] == '使用外部存储或是本地与外部混合的存储的系统称为存储虚拟化。':\n",
    "#             print(k,vv)\n",
    "# #             kk = k\n",
    "#             break"
   ]
  },
  {
   "cell_type": "code",
   "execution_count": 31,
   "id": "71f05430-5dc8-4923-bcee-1e88d1191369",
   "metadata": {},
   "outputs": [
    {
     "name": "stdout",
     "output_type": "stream",
     "text": [
      "len of replace in text 423\n",
      "len of replace in table 19\n"
     ]
    }
   ],
   "source": [
    "# stat info\n",
    "len_replace = 0\n",
    "for v in replace.values():\n",
    "    len_replace += len(v)\n",
    "print(\"len of replace in text\",len_replace)\n",
    "print(\"len of replace in table\",len(replace_table))"
   ]
  },
  {
   "cell_type": "code",
   "execution_count": 32,
   "id": "cb326b68-a049-4b19-9b00-d93e62f90ffc",
   "metadata": {
    "scrolled": true,
    "tags": []
   },
   "outputs": [
    {
     "name": "stderr",
     "output_type": "stream",
     "text": [
      "100%|████████████████████████████████████████████████████████████████████████████████████████████████████████████████| 11965/11965 [00:48<00:00, 245.30it/s]\n"
     ]
    }
   ],
   "source": [
    "# replace里存的是xlsx里的替换规则\n",
    "# ！！！！！！不check sec了，做全文的！！！！！！\n",
    "replace_global = []\n",
    "for v in replace.values():\n",
    "    replace_global += v\n",
    "\n",
    "# print(len(replace_global))\n",
    "# print(replace_global[:10])\n",
    "found = {}\n",
    "for para in tqdm(list(doc.paragraphs)):\n",
    "        for a,b,index in replace_global:\n",
    "            if a != '' and a in para.text:\n",
    "                if a not in found.keys():\n",
    "                    found[a] = [0,b,index]\n",
    "                found[a][0] += 1"
   ]
  },
  {
   "cell_type": "code",
   "execution_count": 16,
   "id": "da674463-3ca6-4b9f-9784-3a487b6fa3be",
   "metadata": {},
   "outputs": [
    {
     "data": {
      "text/plain": [
       "True"
      ]
     },
     "execution_count": 16,
     "metadata": {},
     "output_type": "execute_result"
    }
   ],
   "source": [
    "# testing example\n",
    "\n",
    "# key = \"块服务中定义的空StoragePool，并添加了“空间限制”，“空间限制确定”和ThinProvisionMetaDataSpace属性。\"\n",
    "\n",
    "# key in [i[0] for i in replace_global]\n",
    "\n",
    "# for para in tqdm(list(doc.paragraphs)):\n",
    "#     if key in para.text:\n",
    "#         print(para.text)\n",
    "#         break"
   ]
  },
  {
   "cell_type": "code",
   "execution_count": 79,
   "id": "b88b0b27-edb7-4f11-8106-0dfdd6c6d0b6",
   "metadata": {
    "scrolled": true,
    "tags": []
   },
   "outputs": [
    {
     "name": "stderr",
     "output_type": "stream",
     "text": [
      "100%|████████████████████████████████████████████████████████████████████████| 12046/12046 [00:36<00:00, 332.45it/s]\n"
     ]
    }
   ],
   "source": [
    "# # !!!!!这个是做sec内部只出现了一次的。\n",
    "# # 搜索段落 每个只关联自己section内部（即section内部只出现一次）\n",
    "# found = {}  # 格式 \"before : [show_counter, index]\"\n",
    "# # search in paragraphs\n",
    "# # now_sec = ''\n",
    "# for para in tqdm(list(doc.paragraphs)):\n",
    "#     # update sec_num\n",
    "    \n",
    "# #     sec_num = utils.get_sec_num(para.text)\n",
    "# #     if sec_num is not None:\n",
    "# #         now_sec = sec_num\n",
    "# #     if now_sec == '':\n",
    "# #         continue\n",
    "# #     if now_sec not in replace.keys():\n",
    "# #         continue\n",
    "\n",
    "#     for sec in replace.keys():\n",
    "#         for a,b,index in replace[sec]:\n",
    "#             if a != '' and a in para.text:\n",
    "#                 if a not in found.keys():\n",
    "#                     found[a] = [0,b,index]\n",
    "#                 found[a][0] += 1"
   ]
  },
  {
   "cell_type": "code",
   "execution_count": 33,
   "id": "9587f7ca-658d-4a39-a1f8-ef81cc53af31",
   "metadata": {},
   "outputs": [
    {
     "name": "stderr",
     "output_type": "stream",
     "text": [
      "100%|█████████████████████████████████████████████████████████████████████████████████████████████████████████████████████| 723/723 [00:10<00:00, 66.29it/s]\n"
     ]
    }
   ],
   "source": [
    "# 搜索表格\n",
    "found_table = {}  # 格式 \"before : [counter, afer, index]\"\n",
    "for table_index in tqdm(range(len(list(doc.tables)))):\n",
    "    table = doc.tables[table_index]\n",
    "    for row in table.rows:\n",
    "        for cell in row.cells:\n",
    "            for para in cell.paragraphs:\n",
    "                for a,b in replace_table.items():\n",
    "                    if a != '' and a in para.text:\n",
    "                        if a not in found_table.keys():\n",
    "                            found_table[a] = [0]+list(b)\n",
    "                        found_table[a][0] += 1\n",
    "# print(found_table)"
   ]
  },
  {
   "cell_type": "code",
   "execution_count": 35,
   "id": "99e413e5-87f6-4ca6-a723-98f4c8d28103",
   "metadata": {},
   "outputs": [
    {
     "name": "stdout",
     "output_type": "stream",
     "text": [
      "278\n",
      "10\n"
     ]
    }
   ],
   "source": [
    "# search有匹配的数量\n",
    "print(len(found))\n",
    "print(len(found_table))"
   ]
  },
  {
   "cell_type": "code",
   "execution_count": 38,
   "id": "79cb1648-46d4-4d04-90eb-9349d72b9393",
   "metadata": {},
   "outputs": [
    {
     "name": "stdout",
     "output_type": "stream",
     "text": [
      "247\n",
      "[2.0, 3.0, 4.0, 5.0, 6.0, 7.0, 8.0, 9.0, 10.0, 11.0]\n"
     ]
    }
   ],
   "source": [
    "# 找到只出现一次的\n",
    "indexes = []\n",
    "for k,v in found.items():\n",
    "    if v[0] ==  1:\n",
    "        indexes.append(v[2])\n",
    "\n",
    "for k,v in found_table.items():\n",
    "    if v[0] <= 1:\n",
    "        indexes.append(v[2])\n",
    "        \n",
    "print(len(indexes))\n",
    "print(sorted(indexes)[:10])"
   ]
  },
  {
   "cell_type": "code",
   "execution_count": 39,
   "id": "6086f2c5-3e62-4c62-8e0d-474cf1140e47",
   "metadata": {
    "scrolled": true,
    "tags": []
   },
   "outputs": [
    {
     "data": {
      "text/plain": [
       "[2.0,\n",
       " 3.0,\n",
       " 4.0,\n",
       " 5.0,\n",
       " 6.0,\n",
       " 7.0,\n",
       " 8.0,\n",
       " 9.0,\n",
       " 10.0,\n",
       " 11.0,\n",
       " 12.0,\n",
       " 13.0,\n",
       " 15.0,\n",
       " 16.0,\n",
       " 17.0,\n",
       " 18.0,\n",
       " 19.0,\n",
       " 20.0,\n",
       " 21.0,\n",
       " 22.0,\n",
       " 23.0,\n",
       " 24.0,\n",
       " 26.0,\n",
       " 27.0,\n",
       " 28.0,\n",
       " 30.0,\n",
       " 31.0,\n",
       " 34.0,\n",
       " 35.0,\n",
       " 37.0,\n",
       " 38.0,\n",
       " 40.0,\n",
       " 43.0,\n",
       " 45.0,\n",
       " 46.0,\n",
       " 47.0,\n",
       " 48.0,\n",
       " 49.0,\n",
       " 51.0,\n",
       " 52.0,\n",
       " 54.0,\n",
       " 55.0,\n",
       " 57.0,\n",
       " 58.0,\n",
       " 59.0,\n",
       " 60.0,\n",
       " 61.0,\n",
       " 62.0,\n",
       " 63.0,\n",
       " 65.0,\n",
       " 66.0,\n",
       " 69.0,\n",
       " 70.0,\n",
       " 71.0,\n",
       " 72.0,\n",
       " 73.0,\n",
       " 74.0,\n",
       " 76.0,\n",
       " 77.0,\n",
       " 78.0,\n",
       " 79.0,\n",
       " 80.0,\n",
       " 81.0,\n",
       " 87.0,\n",
       " 88.0,\n",
       " 98.0,\n",
       " 100.0,\n",
       " 112.0,\n",
       " 113.0,\n",
       " 114.0,\n",
       " 118.0,\n",
       " 128.0,\n",
       " 129.0,\n",
       " 130.0,\n",
       " 131.0,\n",
       " 132.0,\n",
       " 133.0,\n",
       " 135.0,\n",
       " 136.0,\n",
       " 137.0,\n",
       " 138.0,\n",
       " 139.0,\n",
       " 141.0,\n",
       " 143.0,\n",
       " 147.0,\n",
       " 151.0,\n",
       " 152.0,\n",
       " 153.0,\n",
       " 155.0,\n",
       " 157.0,\n",
       " 158.0,\n",
       " 159.0,\n",
       " 160.0,\n",
       " 162.0,\n",
       " 163.0,\n",
       " 164.0,\n",
       " 166.0,\n",
       " 167.0,\n",
       " 169.0,\n",
       " 170.0,\n",
       " 171.0,\n",
       " 174.0,\n",
       " 175.0,\n",
       " 176.0,\n",
       " 181.0,\n",
       " 184.0,\n",
       " 186.0,\n",
       " 188.0,\n",
       " 191.0,\n",
       " 193.0,\n",
       " 194.0,\n",
       " 195.0,\n",
       " 196.0,\n",
       " 197.0,\n",
       " 198.0,\n",
       " 199.0,\n",
       " 200.0,\n",
       " 201.0,\n",
       " 202.0,\n",
       " 203.0,\n",
       " 204.0,\n",
       " 205.0,\n",
       " 206.0,\n",
       " 207.0,\n",
       " 208.0,\n",
       " 209.0,\n",
       " 210.0,\n",
       " 211.0,\n",
       " 212.0,\n",
       " 213.0,\n",
       " 214.0,\n",
       " 215.0,\n",
       " 218.0,\n",
       " 221.0,\n",
       " 222.0,\n",
       " 223.0,\n",
       " 224.0,\n",
       " 225.0,\n",
       " 229.0,\n",
       " 230.0,\n",
       " 234.0,\n",
       " 235.0,\n",
       " 236.0,\n",
       " 237.0,\n",
       " 238.0,\n",
       " 239.0,\n",
       " 244.0,\n",
       " 245.0,\n",
       " 246.0,\n",
       " 247.0,\n",
       " 251.0,\n",
       " 252.0,\n",
       " 258.0,\n",
       " 260.0,\n",
       " 261.0,\n",
       " 265.0,\n",
       " 272.0,\n",
       " 278.0,\n",
       " 279.0,\n",
       " 280.0,\n",
       " 281.0,\n",
       " 282.0,\n",
       " 283.0,\n",
       " 284.0,\n",
       " 285.0,\n",
       " 286.0,\n",
       " 287.0,\n",
       " 288.0,\n",
       " 289.0,\n",
       " 290.0,\n",
       " 296.0,\n",
       " 297.0,\n",
       " 298.0,\n",
       " 299.0,\n",
       " 300.0,\n",
       " 301.0,\n",
       " 302.0,\n",
       " 303.0,\n",
       " 304.0,\n",
       " 305.0,\n",
       " 306.0,\n",
       " 307.0,\n",
       " 309.0,\n",
       " 310.0,\n",
       " 311.0,\n",
       " 312.0,\n",
       " 314.0,\n",
       " 315.0,\n",
       " 317.0,\n",
       " 318.0,\n",
       " 320.0,\n",
       " 322.0,\n",
       " 324.0,\n",
       " 336.0,\n",
       " 386.0,\n",
       " 387.0,\n",
       " 388.0,\n",
       " 389.0,\n",
       " 390.0,\n",
       " 394.0,\n",
       " 395.0,\n",
       " 397.0,\n",
       " 398.0,\n",
       " 399.0,\n",
       " 400.0,\n",
       " 401.0,\n",
       " 403.0,\n",
       " 404.0,\n",
       " 405.0,\n",
       " 406.0,\n",
       " 407.0,\n",
       " 409.0,\n",
       " 410.0,\n",
       " 413.0,\n",
       " 418.0,\n",
       " 422.0,\n",
       " 423.0,\n",
       " 425.0,\n",
       " 427.0,\n",
       " 429.0,\n",
       " 431.0,\n",
       " 433.0,\n",
       " 436.0,\n",
       " 438.0,\n",
       " 440.0,\n",
       " 442.0,\n",
       " 443.0,\n",
       " 444.0,\n",
       " 445.0,\n",
       " 446.0,\n",
       " 447.0,\n",
       " 448.0,\n",
       " 449.0,\n",
       " 450.0,\n",
       " 451.0,\n",
       " 452.0,\n",
       " 453.0,\n",
       " 454.0,\n",
       " 455.0,\n",
       " 456.0,\n",
       " 458.0,\n",
       " 460.0,\n",
       " 461.0,\n",
       " 469.0,\n",
       " 472.0,\n",
       " 473.0,\n",
       " 474.0]"
      ]
     },
     "execution_count": 39,
     "metadata": {},
     "output_type": "execute_result"
    }
   ],
   "source": [
    "sorted(indexes)"
   ]
  },
  {
   "cell_type": "code",
   "execution_count": 40,
   "id": "aa2a7eaa-efc9-42f5-8dc0-b54a5f522c48",
   "metadata": {},
   "outputs": [],
   "source": [
    "indexes_sorted = sorted([int(i) for i in indexes])\n",
    "data = []\n",
    "for i in range(1,int(indexes_sorted[-1])+1):\n",
    "    if i in indexes_sorted:\n",
    "        data.append([1])\n",
    "    else:\n",
    "        data.append([])"
   ]
  },
  {
   "cell_type": "code",
   "execution_count": 41,
   "id": "5f39a7c0-7496-40b1-97d5-6f8f1d4c2cf2",
   "metadata": {},
   "outputs": [],
   "source": [
    "# please merge this detect results to xlsx manually\n",
    "with open('/home/gray/desktop/detect.csv', 'w') as file:\n",
    "    writer = csv.writer(file)\n",
    "    writer.writerows(data)"
   ]
  },
  {
   "cell_type": "code",
   "execution_count": 18,
   "id": "cc959236-b26c-4d18-b524-595a29d0dd7c",
   "metadata": {},
   "outputs": [],
   "source": [
    "# -------------------------------below is for testing------------------------------------------------"
   ]
  },
  {
   "cell_type": "code",
   "execution_count": 78,
   "id": "2c5a6372-1e17-4c77-a4c9-1b9f579b7373",
   "metadata": {
    "scrolled": true,
    "tags": []
   },
   "outputs": [
    {
     "name": "stderr",
     "output_type": "stream",
     "text": [
      "100%|██████████████████████████████████████████████████████████████████████| 12046/12046 [00:00<00:00, 44714.16it/s]"
     ]
    },
    {
     "name": "stdout",
     "output_type": "stream",
     "text": [
      "阵列配置文件描述了独立冗余磁盘阵列(RAID)系统。这个配置文件描述的RAID系统是独立的，它使用本地磁盘来存储数据。使用外部存储或是本地与外部混合的存储的系统称为存储虚拟化。插入到底板或是母板的系统应该使用主机硬件RAID。该文件见第7部分主机元素。另外，为支持广域网存储管理，阵列配置文件定义了RAID系统配置服务代理（service agent，SA）,和向S-P2PN中的管理节点（directory agent, DA）注册和注销的操作。\n"
     ]
    },
    {
     "name": "stderr",
     "output_type": "stream",
     "text": [
      "\n"
     ]
    }
   ],
   "source": [
    "now_sec = ''\n",
    "for para in tqdm(list(doc.paragraphs)):\n",
    "    sec_num = utils.get_sec_num(para.text)\n",
    "    if sec_num is not None:\n",
    "        now_sec = sec_num\n",
    "    if now_sec == '':\n",
    "        continue\n",
    "    if \"插入到底板或是母板的系统应该使用主机硬件RAID。\" in para.text:\n",
    "        print(para.text)\n",
    "#         break\n",
    "    "
   ]
  },
  {
   "cell_type": "code",
   "execution_count": 22,
   "id": "5e0f608c-4f3c-410b-8bed-279a273af824",
   "metadata": {},
   "outputs": [
    {
     "data": {
      "text/plain": [
       "'4.1.2'"
      ]
     },
     "execution_count": 22,
     "metadata": {},
     "output_type": "execute_result"
    }
   ],
   "source": [
    "now_sec"
   ]
  },
  {
   "cell_type": "code",
   "execution_count": 23,
   "id": "aacb90eb-51be-410a-85e4-ddd0466ba46a",
   "metadata": {},
   "outputs": [
    {
     "data": {
      "text/plain": [
       "'4.1.2'"
      ]
     },
     "execution_count": 23,
     "metadata": {},
     "output_type": "execute_result"
    }
   ],
   "source": [
    "utils.get_sec_num(\"4.1.2 概述\")"
   ]
  },
  {
   "cell_type": "code",
   "execution_count": null,
   "id": "5896559e-9658-4f0b-a41d-77777eb8503d",
   "metadata": {},
   "outputs": [],
   "source": []
  }
 ],
 "metadata": {
  "kernelspec": {
   "display_name": "Python 3 (ipykernel)",
   "language": "python",
   "name": "python3"
  },
  "language_info": {
   "codemirror_mode": {
    "name": "ipython",
    "version": 3
   },
   "file_extension": ".py",
   "mimetype": "text/x-python",
   "name": "python",
   "nbconvert_exporter": "python",
   "pygments_lexer": "ipython3",
   "version": "3.8.5"
  }
 },
 "nbformat": 4,
 "nbformat_minor": 5
}
