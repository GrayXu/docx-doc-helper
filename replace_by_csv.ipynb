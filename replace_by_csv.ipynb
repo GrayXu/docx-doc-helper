{
 "cells": [
  {
   "cell_type": "code",
   "execution_count": 1,
   "id": "81cd1188-46de-421b-8e8d-08a2d79a2a52",
   "metadata": {},
   "outputs": [],
   "source": [
    "import csv\n",
    "import docx\n",
    "from tqdm import tqdm\n",
    "import utils"
   ]
  },
  {
   "cell_type": "code",
   "execution_count": 2,
   "id": "b9aefaf0-5868-4cf2-ad7b-948cbd14faca",
   "metadata": {},
   "outputs": [
    {
     "data": {
      "text/plain": [
       "'23.1'"
      ]
     },
     "execution_count": 2,
     "metadata": {},
     "output_type": "execute_result"
    }
   ],
   "source": [
    "# test section\n",
    "utils.get_sec_num('23.1 alwijdli')"
   ]
  },
  {
   "cell_type": "code",
   "execution_count": 4,
   "id": "4569f6eb-ca17-4795-8c89-bf5be6af00d9",
   "metadata": {
    "tags": []
   },
   "outputs": [],
   "source": [
    "# prepare replacing data in sections\n",
    "replace = {}\n",
    "replace_table = {}\n",
    "with open('dell.csv') as file:\n",
    "    data = csv.reader(file,delimiter=',')\n",
    "    count = 0\n",
    "    for row in data:  \n",
    "        count += 1\n",
    "        if count <= 3:\n",
    "            continue\n",
    "        \n",
    "        sec_num = utils.get_sec_num(row[1])       \n",
    "        \n",
    "        if sec_num is not None:\n",
    "            # tmp solution: self-increment for a new added-in section\n",
    "            tmp_s = [int(x) for x in sec_num.split('.')]\n",
    "            tmp_s[0] += 1\n",
    "            \n",
    "            sec_num = \".\".join([str(x) for x in tmp_s])\n",
    "            if sec_num not in replace.keys():\n",
    "                replace[sec_num] = []\n",
    "            replace[sec_num].append((row[2],row[3],row[0]))  # sec_num : (before, after, index)\n",
    "        else:\n",
    "            replace_table[row[2]] = (row[3],row[0])  # before : (after, index)\n"
   ]
  },
  {
   "cell_type": "code",
   "execution_count": 6,
   "id": "83a24030-7858-4a68-87d0-96920dd8a6ca",
   "metadata": {
    "scrolled": true,
    "tags": []
   },
   "outputs": [],
   "source": [
    "in_path = '/home/gray/desktop/7.15.docx'\n",
    "doc = docx.Document(in_path)"
   ]
  },
  {
   "cell_type": "code",
   "execution_count": 50,
   "id": "a375d874-8215-49e2-8dd3-c24111073acd",
   "metadata": {
    "scrolled": true,
    "tags": []
   },
   "outputs": [
    {
     "name": "stderr",
     "output_type": "stream",
     "text": [
      "100%|██████████████████████████████████████████████████████████████████████████████████████████████████████████████| 12098/12098 [00:00<00:00, 58632.45it/s]"
     ]
    },
    {
     "name": "stdout",
     "output_type": "stream",
     "text": [
      "200\n"
     ]
    },
    {
     "name": "stderr",
     "output_type": "stream",
     "text": [
      "\n"
     ]
    }
   ],
   "source": [
    "found = {}  # 格式 \"before : [counter, index]\"\n",
    "indexes = []  # 审核通过的（只出现了一次的）\n",
    "\n",
    "# search in paragraphs\n",
    "now_sec = ''\n",
    "for para in tqdm(list(doc.paragraphs)):\n",
    "    # update sec_num\n",
    "    sec_num = utils.get_sec_num(para.text)\n",
    "    if sec_num is not None:\n",
    "        now_sec = sec_num\n",
    "#         print(now_sec)\n",
    "    \n",
    "    if now_sec == '':\n",
    "        continue\n",
    "    \n",
    "    if now_sec not in replace.keys():\n",
    "        continue\n",
    "    \n",
    "    for a,b,index in replace[now_sec]:\n",
    "#         for run in para.runs:\n",
    "#             if a != '' and a in run.text:\n",
    "#                 if a not in found.keys():\n",
    "#                     found[a] = 0\n",
    "#                 found[a] += 1\n",
    "\n",
    "        if a != '' and a in para.text:\n",
    "            '''\n",
    "            do replace(a,b)\n",
    "            '''\n",
    "            if a not in found.keys():\n",
    "                found[a] = [0,b,index]\n",
    "            \n",
    "            found[a][0] += 1"
   ]
  },
  {
   "cell_type": "code",
   "execution_count": 51,
   "id": "7b523a70-2b4f-4131-b480-8bc73099efe8",
   "metadata": {
    "scrolled": true,
    "tags": []
   },
   "outputs": [
    {
     "name": "stderr",
     "output_type": "stream",
     "text": [
      "100%|█████████████████████████████████████████████████████████████████████████████████████████████████████████████████████| 713/713 [01:03<00:00, 11.16it/s]"
     ]
    },
    {
     "name": "stdout",
     "output_type": "stream",
     "text": [
      "124\n"
     ]
    },
    {
     "name": "stderr",
     "output_type": "stream",
     "text": [
      "\n"
     ]
    }
   ],
   "source": [
    "found_table = {}  # 格式 \"before : [counter, afer, index]\"\n",
    "for table_index in tqdm(range(len(list(doc.tables)))[10:]):\n",
    "    table = doc.tables[table_index]\n",
    "    for row in table.rows:\n",
    "        for cell in row.cells:\n",
    "            for para in cell.paragraphs:\n",
    "                for a,b in replace_table.items():\n",
    "                    if a!='' and a in para.text:\n",
    "                        if a not in found_table.keys():\n",
    "                            found_table[a] = [0]+list(b)\n",
    "                        found_table[a][0] += 1\n",
    "# print(found_table)"
   ]
  },
  {
   "cell_type": "code",
   "execution_count": 61,
   "id": "eee47539-9751-428f-af19-34a1829c83c3",
   "metadata": {},
   "outputs": [
    {
     "name": "stdout",
     "output_type": "stream",
     "text": [
      "('Job Control', [11, '作业控制', '6'])\n",
      "('中心类', [1, '核心类', '2'])\n"
     ]
    }
   ],
   "source": [
    "print(list(found_table.items())[0])\n",
    "print(list(found.items())[0])"
   ]
  },
  {
   "cell_type": "code",
   "execution_count": 68,
   "id": "986338b5-3030-4c3e-8afb-153477978ddb",
   "metadata": {
    "scrolled": true,
    "tags": []
   },
   "outputs": [
    {
     "name": "stdout",
     "output_type": "stream",
     "text": [
      "324\n",
      "['2', '3', '9', '10', '11', '13', '14', '15', '16', '17']\n"
     ]
    }
   ],
   "source": [
    "indexes = []\n",
    "for k,v in found.items():\n",
    "    if v[0] ==  1:\n",
    "        indexes.append(v[2])\n",
    "\n",
    "for k,v in found_table.items():\n",
    "    if v[0] <= 1:\n",
    "        indexes.append(v[2])\n",
    "        \n",
    "print(len(indexes))\n",
    "print(indexes[:10])"
   ]
  },
  {
   "cell_type": "code",
   "execution_count": null,
   "id": "762ecc5f-b57c-4377-95b7-3d1ef6a689f5",
   "metadata": {},
   "outputs": [],
   "source": [
    "for k,v in found_table.items():\n",
    "    if v[0] == 1:\n",
    "        indexes.append(v[2])"
   ]
  },
  {
   "cell_type": "code",
   "execution_count": 65,
   "id": "039f8594-d7c9-4db8-b662-06abf9b975aa",
   "metadata": {},
   "outputs": [],
   "source": [
    "data = []\n",
    "with open('dell.csv', 'r') as file:\n",
    "    reader = csv.reader(file,delimiter=',')\n",
    "    for row in reader:\n",
    "        if row[0] in indexes:\n",
    "            row.append('python')\n",
    "        data.append(row)"
   ]
  },
  {
   "cell_type": "code",
   "execution_count": 66,
   "id": "b8f770f5-c958-410f-8067-7ecb3d2c53a1",
   "metadata": {},
   "outputs": [],
   "source": [
    "with open('/home/gray/desktop/dell_n.csv', 'w') as file:\n",
    "    writer = csv.writer(file)\n",
    "    writer.writerows(data)"
   ]
  },
  {
   "cell_type": "code",
   "execution_count": null,
   "id": "fe23ed57-6c6a-401c-bd8b-37a90295d311",
   "metadata": {},
   "outputs": [],
   "source": []
  }
 ],
 "metadata": {
  "kernelspec": {
   "display_name": "Python 3 (ipykernel)",
   "language": "python",
   "name": "python3"
  },
  "language_info": {
   "codemirror_mode": {
    "name": "ipython",
    "version": 3
   },
   "file_extension": ".py",
   "mimetype": "text/x-python",
   "name": "python",
   "nbconvert_exporter": "python",
   "pygments_lexer": "ipython3",
   "version": "3.8.5"
  }
 },
 "nbformat": 4,
 "nbformat_minor": 5
}
