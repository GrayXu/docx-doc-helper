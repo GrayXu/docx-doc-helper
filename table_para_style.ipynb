{
 "cells": [
  {
   "cell_type": "code",
   "execution_count": 1,
   "id": "ea259abb-60b2-4997-972b-b9129545eaa5",
   "metadata": {},
   "outputs": [],
   "source": [
    "import csv\n",
    "import docx\n",
    "from tqdm import tqdm\n",
    "import utils"
   ]
  },
  {
   "cell_type": "code",
   "execution_count": 53,
   "id": "26086d8c-03b7-4270-b7cf-653bc18b02a0",
   "metadata": {},
   "outputs": [],
   "source": [
    "in_path = '/mnt/c/Users/gray/seadrive_root/mail_1/我的资料库/mine/STANDARD/立项材料/第四部分 立项材料/1.4 序号修复 自增 - 副本.docx'\n",
    "doc = docx.Document(in_path)"
   ]
  },
  {
   "cell_type": "code",
   "execution_count": 3,
   "id": "d2471b26-bf54-4f8a-9cb2-beee66618ef6",
   "metadata": {
    "scrolled": true,
    "tags": []
   },
   "outputs": [
    {
     "name": "stderr",
     "output_type": "stream",
     "text": [
      "100%|█████████████████████████████████████████████████████████████████████████████████████████████████████████████████████| 723/723 [00:35<00:00, 20.16it/s]\n"
     ]
    }
   ],
   "source": [
    "stat_first = {}\n",
    "stat = {}\n",
    "\n",
    "\n",
    "for table_index in tqdm(range(len(list(doc.tables)))[:]):\n",
    "    table = doc.tables[table_index]\n",
    "    for rowi in range(len(table.rows)):\n",
    "        row = table.rows[rowi]\n",
    "        for coli in range(len(row.cells)):\n",
    "            cell = row.cells[coli]\n",
    "            if rowi == 0:\n",
    "                for para in cell.paragraphs:\n",
    "                    tmp = utils.get_style_name(para.style)\n",
    "                    if tmp not in stat_first.keys():\n",
    "                        stat_first[tmp] = 0\n",
    "                    stat_first[tmp] += 1\n",
    "            else:\n",
    "                for para in cell.paragraphs:\n",
    "                    tmp = utils.get_style_name(para.style)\n",
    "                    if tmp not in stat.keys():\n",
    "                        stat[tmp] = 0\n",
    "                    stat[tmp] += 1\n",
    "\n",
    "# for table_index in tqdm(range(len(list(doc.tables)))[:]):\n",
    "#     table = doc.tables[table_index]\n",
    "#     for row in table.rows:\n",
    "#         isFirst = True\n",
    "#         for cell in row.cells:\n",
    "#             if isFirst:\n",
    "#                 for para in cell.paragraphs:\n",
    "#                     tmp = utils.get_style_name(para.style)\n",
    "#                     if tmp not in stat_first.keys():\n",
    "#                         stat_first[tmp] = 0\n",
    "#                     stat_first[tmp] += 1\n",
    "#                 isFirst = False\n",
    "#             else:\n",
    "#                 for para in cell.paragraphs:\n",
    "#                     tmp = utils.get_style_name(para.style)\n",
    "#                     if tmp not in stat.keys():\n",
    "#                         stat[tmp] = 0\n",
    "#                     stat[tmp] += 1"
   ]
  },
  {
   "cell_type": "code",
   "execution_count": 4,
   "id": "5c818536-df6c-4519-96bd-dd3c0a315804",
   "metadata": {},
   "outputs": [
    {
     "data": {
      "text/plain": [
       "{'封面标准代替信息': 1,\n",
       " '封面标准文稿类别': 1,\n",
       " '表格-标题': 1006,\n",
       " '表格-居中': 4,\n",
       " '表格-样式': 19,\n",
       " '正文2': 31,\n",
       " 'Normal': 1648,\n",
       " 'Table Paragraph': 19,\n",
       " '段': 32}"
      ]
     },
     "execution_count": 4,
     "metadata": {},
     "output_type": "execute_result"
    }
   ],
   "source": [
    "stat_first"
   ]
  },
  {
   "cell_type": "code",
   "execution_count": 5,
   "id": "b58c676c-1a1d-4aad-95d7-f0d458bc2aa7",
   "metadata": {},
   "outputs": [
    {
     "data": {
      "text/plain": [
       "{'封面标准文稿编辑信息': 1,\n",
       " 'Normal': 12532,\n",
       " '表格-样式': 6167,\n",
       " '表格-居中': 2040,\n",
       " 'Table Paragraph': 1105,\n",
       " '表格-标题': 25,\n",
       " 'Normal (Web)': 1,\n",
       " '段': 599}"
      ]
     },
     "execution_count": 5,
     "metadata": {},
     "output_type": "execute_result"
    }
   ],
   "source": [
    "stat"
   ]
  },
  {
   "cell_type": "code",
   "execution_count": 54,
   "id": "e0dee0de-b0b0-400e-85e7-f7304bc299c6",
   "metadata": {},
   "outputs": [
    {
     "name": "stderr",
     "output_type": "stream",
     "text": [
      "100%|█████████████████████████████████████████████████████████████████████████████████████████████████████████████████████| 719/719 [00:48<00:00, 14.84it/s]\n"
     ]
    }
   ],
   "source": [
    "# 设置首行的style为 表格-标题\n",
    "for table_index in tqdm(range(len(list(doc.tables)))[4:]):\n",
    "    table = doc.tables[table_index]\n",
    "    for rowi in range(len(table.rows)):\n",
    "        row = table.rows[rowi]\n",
    "        for coli in range(len(row.cells)):\n",
    "            cell = row.cells[coli]\n",
    "            if rowi == 0:\n",
    "                for para in cell.paragraphs:\n",
    "                    if utils.get_style_name(para.style) != '表格-标题':\n",
    "                        para.style = '表格-标题'\n",
    "            else:\n",
    "                for para in cell.paragraphs:\n",
    "                    if utils.get_style_name(para.style) != '表格-样式':\n",
    "                        para.style = '表格-样式'\n",
    "                    para.paragraph_format.first_line_indent = 0"
   ]
  },
  {
   "cell_type": "code",
   "execution_count": 55,
   "id": "4b026e72-9147-4775-a168-add0beebedd0",
   "metadata": {},
   "outputs": [],
   "source": [
    "doc.save('/mnt/c/Users/gray/seadrive_root/mail_1/我的资料库/mine/STANDARD/立项材料/第四部分 立项材料/output.docx')"
   ]
  },
  {
   "cell_type": "markdown",
   "id": "8832ffd5-afd7-45ae-84a1-6ce77a16072d",
   "metadata": {},
   "source": [
    "----------------"
   ]
  },
  {
   "cell_type": "code",
   "execution_count": 44,
   "id": "754c2a3d-1595-4df7-8247-31529493b588",
   "metadata": {
    "scrolled": true,
    "tags": []
   },
   "outputs": [
    {
     "name": "stderr",
     "output_type": "stream",
     "text": [
      "  0%|                                                                                                                               | 0/723 [00:00<?, ?it/s]"
     ]
    },
    {
     "name": "stdout",
     "output_type": "stream",
     "text": [
      "2 配置文件\n",
      "2 组织\n",
      "2 版本\n",
      "2 要求\n",
      "2 描述\n"
     ]
    },
    {
     "name": "stderr",
     "output_type": "stream",
     "text": [
      "  2%|██▍                                                                                                                   | 15/723 [00:00<00:31, 22.82it/s]"
     ]
    },
    {
     "name": "stdout",
     "output_type": "stream",
     "text": [
      "4 属性\n",
      "4 标志\n",
      "4 要求\n",
      "4 描述\n",
      "6 属性\n",
      "6 标志\n",
      "6 要求\n",
      "6 描述\n",
      "13 注册的配置\n",
      "13 文件名\n",
      "13 组织\n",
      "13 版本\n",
      "13 要求\n",
      "13 描述\n",
      "14 操作\n",
      "14 与“Pool x”相关联的意义\n",
      "14 SCS方法\n",
      "16 StoragePool所支持的行为\n",
      "16 解释\n"
     ]
    },
    {
     "name": "stderr",
     "output_type": "stream",
     "text": [
      "  4%|████▍                                                                                                                 | 27/723 [00:01<00:19, 35.03it/s]"
     ]
    },
    {
     "name": "stdout",
     "output_type": "stream",
     "text": [
      "21 标准信息 ID\n",
      "21 标准信息名字\n",
      "22 主要OperationalStatus\n",
      "22 辅助OperationalStatus\n",
      "22 描述\n",
      "23 主要OperationalStatus\n",
      "23 辅助OperationalStatus\n",
      "23 描述\n",
      "24 主要OperationalStatus\n",
      "24 辅助OperationalStatus\n",
      "24 描述\n",
      "25 主要OperationalStatus\n",
      "25 辅助OperationalStatus\n",
      "25 描述\n",
      "26 预期用途\n",
      "26 存储扩展初始化\n",
      "26 存储池初始化\n",
      "26 精简配置的池类型\n",
      "26 注意\n",
      "27 元素名称\n",
      "27 要求\n",
      "27 描述\n"
     ]
    },
    {
     "name": "stderr",
     "output_type": "stream",
     "text": [
      "  4%|████▋                                                                                                                 | 29/723 [00:01<00:40, 17.23it/s]"
     ]
    },
    {
     "name": "stdout",
     "output_type": "stream",
     "text": [
      "28 属性\n",
      "28 标志\n",
      "28 要求\n",
      "28 描述\n",
      "29 属性\n"
     ]
    },
    {
     "name": "stderr",
     "output_type": "stream",
     "text": [
      "\n"
     ]
    },
    {
     "ename": "KeyboardInterrupt",
     "evalue": "",
     "output_type": "error",
     "traceback": [
      "\u001b[0;31m---------------------------------------------------------------------------\u001b[0m",
      "\u001b[0;31mKeyboardInterrupt\u001b[0m                         Traceback (most recent call last)",
      "\u001b[0;32m/tmp/ipykernel_913/2998606587.py\u001b[0m in \u001b[0;36m<module>\u001b[0;34m\u001b[0m\n\u001b[1;32m      7\u001b[0m             \u001b[0;32mif\u001b[0m \u001b[0mrowi\u001b[0m \u001b[0;34m==\u001b[0m \u001b[0;36m0\u001b[0m\u001b[0;34m:\u001b[0m\u001b[0;34m\u001b[0m\u001b[0;34m\u001b[0m\u001b[0m\n\u001b[1;32m      8\u001b[0m                 \u001b[0;32mfor\u001b[0m \u001b[0mpara\u001b[0m \u001b[0;32min\u001b[0m \u001b[0mcell\u001b[0m\u001b[0;34m.\u001b[0m\u001b[0mparagraphs\u001b[0m\u001b[0;34m:\u001b[0m\u001b[0;34m\u001b[0m\u001b[0;34m\u001b[0m\u001b[0m\n\u001b[0;32m----> 9\u001b[0;31m                     \u001b[0;32mif\u001b[0m \u001b[0mutils\u001b[0m\u001b[0;34m.\u001b[0m\u001b[0mget_style_name\u001b[0m\u001b[0;34m(\u001b[0m\u001b[0mpara\u001b[0m\u001b[0;34m.\u001b[0m\u001b[0mstyle\u001b[0m\u001b[0;34m)\u001b[0m \u001b[0;34m==\u001b[0m \u001b[0;34m'表格-标题'\u001b[0m\u001b[0;34m:\u001b[0m\u001b[0;34m\u001b[0m\u001b[0;34m\u001b[0m\u001b[0m\n\u001b[0m\u001b[1;32m     10\u001b[0m                         \u001b[0mprint\u001b[0m\u001b[0;34m(\u001b[0m\u001b[0mtable_index\u001b[0m\u001b[0;34m,\u001b[0m \u001b[0mpara\u001b[0m\u001b[0;34m.\u001b[0m\u001b[0mtext\u001b[0m\u001b[0;34m)\u001b[0m\u001b[0;34m\u001b[0m\u001b[0;34m\u001b[0m\u001b[0m\n\u001b[1;32m     11\u001b[0m \u001b[0;34m\u001b[0m\u001b[0m\n",
      "\u001b[0;32m~/.local/lib/python3.8/site-packages/docx/text/paragraph.py\u001b[0m in \u001b[0;36mstyle\u001b[0;34m(self)\u001b[0m\n\u001b[1;32m    104\u001b[0m         \"\"\"\n\u001b[1;32m    105\u001b[0m         \u001b[0mstyle_id\u001b[0m \u001b[0;34m=\u001b[0m \u001b[0mself\u001b[0m\u001b[0;34m.\u001b[0m\u001b[0m_p\u001b[0m\u001b[0;34m.\u001b[0m\u001b[0mstyle\u001b[0m\u001b[0;34m\u001b[0m\u001b[0;34m\u001b[0m\u001b[0m\n\u001b[0;32m--> 106\u001b[0;31m         \u001b[0;32mreturn\u001b[0m \u001b[0mself\u001b[0m\u001b[0;34m.\u001b[0m\u001b[0mpart\u001b[0m\u001b[0;34m.\u001b[0m\u001b[0mget_style\u001b[0m\u001b[0;34m(\u001b[0m\u001b[0mstyle_id\u001b[0m\u001b[0;34m,\u001b[0m \u001b[0mWD_STYLE_TYPE\u001b[0m\u001b[0;34m.\u001b[0m\u001b[0mPARAGRAPH\u001b[0m\u001b[0;34m)\u001b[0m\u001b[0;34m\u001b[0m\u001b[0;34m\u001b[0m\u001b[0m\n\u001b[0m\u001b[1;32m    107\u001b[0m \u001b[0;34m\u001b[0m\u001b[0m\n\u001b[1;32m    108\u001b[0m     \u001b[0;34m@\u001b[0m\u001b[0mstyle\u001b[0m\u001b[0;34m.\u001b[0m\u001b[0msetter\u001b[0m\u001b[0;34m\u001b[0m\u001b[0;34m\u001b[0m\u001b[0m\n",
      "\u001b[0;32m~/.local/lib/python3.8/site-packages/docx/parts/document.py\u001b[0m in \u001b[0;36mget_style\u001b[0;34m(self, style_id, style_type)\u001b[0m\n\u001b[1;32m     66\u001b[0m         \u001b[0mmatch\u001b[0m \u001b[0ma\u001b[0m \u001b[0mdefined\u001b[0m \u001b[0mstyle\u001b[0m \u001b[0mof\u001b[0m \u001b[0;34m*\u001b[0m\u001b[0mstyle_type\u001b[0m\u001b[0;34m*\u001b[0m\u001b[0;34m.\u001b[0m\u001b[0;34m\u001b[0m\u001b[0;34m\u001b[0m\u001b[0m\n\u001b[1;32m     67\u001b[0m         \"\"\"\n\u001b[0;32m---> 68\u001b[0;31m         \u001b[0;32mreturn\u001b[0m \u001b[0mself\u001b[0m\u001b[0;34m.\u001b[0m\u001b[0mstyles\u001b[0m\u001b[0;34m.\u001b[0m\u001b[0mget_by_id\u001b[0m\u001b[0;34m(\u001b[0m\u001b[0mstyle_id\u001b[0m\u001b[0;34m,\u001b[0m \u001b[0mstyle_type\u001b[0m\u001b[0;34m)\u001b[0m\u001b[0;34m\u001b[0m\u001b[0;34m\u001b[0m\u001b[0m\n\u001b[0m\u001b[1;32m     69\u001b[0m \u001b[0;34m\u001b[0m\u001b[0m\n\u001b[1;32m     70\u001b[0m     \u001b[0;32mdef\u001b[0m \u001b[0mget_style_id\u001b[0m\u001b[0;34m(\u001b[0m\u001b[0mself\u001b[0m\u001b[0;34m,\u001b[0m \u001b[0mstyle_or_name\u001b[0m\u001b[0;34m,\u001b[0m \u001b[0mstyle_type\u001b[0m\u001b[0;34m)\u001b[0m\u001b[0;34m:\u001b[0m\u001b[0;34m\u001b[0m\u001b[0;34m\u001b[0m\u001b[0m\n",
      "\u001b[0;32m~/.local/lib/python3.8/site-packages/docx/parts/document.py\u001b[0m in \u001b[0;36mstyles\u001b[0;34m(self)\u001b[0m\n\u001b[1;32m    125\u001b[0m         \u001b[0mof\u001b[0m \u001b[0mthis\u001b[0m \u001b[0mdocument\u001b[0m\u001b[0;34m.\u001b[0m\u001b[0;34m\u001b[0m\u001b[0;34m\u001b[0m\u001b[0m\n\u001b[1;32m    126\u001b[0m         \"\"\"\n\u001b[0;32m--> 127\u001b[0;31m         \u001b[0;32mreturn\u001b[0m \u001b[0mself\u001b[0m\u001b[0;34m.\u001b[0m\u001b[0m_styles_part\u001b[0m\u001b[0;34m.\u001b[0m\u001b[0mstyles\u001b[0m\u001b[0;34m\u001b[0m\u001b[0;34m\u001b[0m\u001b[0m\n\u001b[0m\u001b[1;32m    128\u001b[0m \u001b[0;34m\u001b[0m\u001b[0m\n\u001b[1;32m    129\u001b[0m     \u001b[0;34m@\u001b[0m\u001b[0mproperty\u001b[0m\u001b[0;34m\u001b[0m\u001b[0;34m\u001b[0m\u001b[0m\n",
      "\u001b[0;32m~/.local/lib/python3.8/site-packages/docx/parts/document.py\u001b[0m in \u001b[0;36m_styles_part\u001b[0;34m(self)\u001b[0m\n\u001b[1;32m    148\u001b[0m         \"\"\"\n\u001b[1;32m    149\u001b[0m         \u001b[0;32mtry\u001b[0m\u001b[0;34m:\u001b[0m\u001b[0;34m\u001b[0m\u001b[0;34m\u001b[0m\u001b[0m\n\u001b[0;32m--> 150\u001b[0;31m             \u001b[0;32mreturn\u001b[0m \u001b[0mself\u001b[0m\u001b[0;34m.\u001b[0m\u001b[0mpart_related_by\u001b[0m\u001b[0;34m(\u001b[0m\u001b[0mRT\u001b[0m\u001b[0;34m.\u001b[0m\u001b[0mSTYLES\u001b[0m\u001b[0;34m)\u001b[0m\u001b[0;34m\u001b[0m\u001b[0;34m\u001b[0m\u001b[0m\n\u001b[0m\u001b[1;32m    151\u001b[0m         \u001b[0;32mexcept\u001b[0m \u001b[0mKeyError\u001b[0m\u001b[0;34m:\u001b[0m\u001b[0;34m\u001b[0m\u001b[0;34m\u001b[0m\u001b[0m\n\u001b[1;32m    152\u001b[0m             \u001b[0mstyles_part\u001b[0m \u001b[0;34m=\u001b[0m \u001b[0mStylesPart\u001b[0m\u001b[0;34m.\u001b[0m\u001b[0mdefault\u001b[0m\u001b[0;34m(\u001b[0m\u001b[0mself\u001b[0m\u001b[0;34m.\u001b[0m\u001b[0mpackage\u001b[0m\u001b[0;34m)\u001b[0m\u001b[0;34m\u001b[0m\u001b[0;34m\u001b[0m\u001b[0m\n",
      "\u001b[0;32m~/.local/lib/python3.8/site-packages/docx/opc/part.py\u001b[0m in \u001b[0;36mpart_related_by\u001b[0;34m(self, reltype)\u001b[0m\n\u001b[1;32m    119\u001b[0m         \u001b[0mresolve\u001b[0m \u001b[0mimplicitly\u001b[0m \u001b[0mrelated\u001b[0m \u001b[0mpart\u001b[0m\u001b[0;34m,\u001b[0m \u001b[0msuch\u001b[0m \u001b[0;32mas\u001b[0m \u001b[0mSlide\u001b[0m \u001b[0;34m->\u001b[0m \u001b[0mSlideLayout\u001b[0m\u001b[0;34m.\u001b[0m\u001b[0;34m\u001b[0m\u001b[0;34m\u001b[0m\u001b[0m\n\u001b[1;32m    120\u001b[0m         \"\"\"\n\u001b[0;32m--> 121\u001b[0;31m         \u001b[0;32mreturn\u001b[0m \u001b[0mself\u001b[0m\u001b[0;34m.\u001b[0m\u001b[0mrels\u001b[0m\u001b[0;34m.\u001b[0m\u001b[0mpart_with_reltype\u001b[0m\u001b[0;34m(\u001b[0m\u001b[0mreltype\u001b[0m\u001b[0;34m)\u001b[0m\u001b[0;34m\u001b[0m\u001b[0;34m\u001b[0m\u001b[0m\n\u001b[0m\u001b[1;32m    122\u001b[0m \u001b[0;34m\u001b[0m\u001b[0m\n\u001b[1;32m    123\u001b[0m     \u001b[0;32mdef\u001b[0m \u001b[0mrelate_to\u001b[0m\u001b[0;34m(\u001b[0m\u001b[0mself\u001b[0m\u001b[0;34m,\u001b[0m \u001b[0mtarget\u001b[0m\u001b[0;34m,\u001b[0m \u001b[0mreltype\u001b[0m\u001b[0;34m,\u001b[0m \u001b[0mis_external\u001b[0m\u001b[0;34m=\u001b[0m\u001b[0;32mFalse\u001b[0m\u001b[0;34m)\u001b[0m\u001b[0;34m:\u001b[0m\u001b[0;34m\u001b[0m\u001b[0;34m\u001b[0m\u001b[0m\n",
      "\u001b[0;32m~/.local/lib/python3.8/site-packages/docx/opc/rel.py\u001b[0m in \u001b[0;36mpart_with_reltype\u001b[0;34m(self, reltype)\u001b[0m\n\u001b[1;32m     61\u001b[0m         \u001b[0;32mis\u001b[0m \u001b[0mfound\u001b[0m\u001b[0;34m.\u001b[0m\u001b[0;34m\u001b[0m\u001b[0;34m\u001b[0m\u001b[0m\n\u001b[1;32m     62\u001b[0m         \"\"\"\n\u001b[0;32m---> 63\u001b[0;31m         \u001b[0mrel\u001b[0m \u001b[0;34m=\u001b[0m \u001b[0mself\u001b[0m\u001b[0;34m.\u001b[0m\u001b[0m_get_rel_of_type\u001b[0m\u001b[0;34m(\u001b[0m\u001b[0mreltype\u001b[0m\u001b[0;34m)\u001b[0m\u001b[0;34m\u001b[0m\u001b[0;34m\u001b[0m\u001b[0m\n\u001b[0m\u001b[1;32m     64\u001b[0m         \u001b[0;32mreturn\u001b[0m \u001b[0mrel\u001b[0m\u001b[0;34m.\u001b[0m\u001b[0mtarget_part\u001b[0m\u001b[0;34m\u001b[0m\u001b[0;34m\u001b[0m\u001b[0m\n\u001b[1;32m     65\u001b[0m \u001b[0;34m\u001b[0m\u001b[0m\n",
      "\u001b[0;32m~/.local/lib/python3.8/site-packages/docx/opc/rel.py\u001b[0m in \u001b[0;36m_get_rel_of_type\u001b[0;34m(self, reltype)\u001b[0m\n\u001b[1;32m    111\u001b[0m         \u001b[0;34m|\u001b[0m\u001b[0mValueError\u001b[0m\u001b[0;34m|\u001b[0m \u001b[0;32mif\u001b[0m \u001b[0mmore\u001b[0m \u001b[0mthan\u001b[0m \u001b[0mone\u001b[0m \u001b[0mmatching\u001b[0m \u001b[0mrelationship\u001b[0m \u001b[0;32mis\u001b[0m \u001b[0mfound\u001b[0m\u001b[0;34m.\u001b[0m\u001b[0;34m\u001b[0m\u001b[0;34m\u001b[0m\u001b[0m\n\u001b[1;32m    112\u001b[0m         \"\"\"\n\u001b[0;32m--> 113\u001b[0;31m         \u001b[0mmatching\u001b[0m \u001b[0;34m=\u001b[0m \u001b[0;34m[\u001b[0m\u001b[0mrel\u001b[0m \u001b[0;32mfor\u001b[0m \u001b[0mrel\u001b[0m \u001b[0;32min\u001b[0m \u001b[0mself\u001b[0m\u001b[0;34m.\u001b[0m\u001b[0mvalues\u001b[0m\u001b[0;34m(\u001b[0m\u001b[0;34m)\u001b[0m \u001b[0;32mif\u001b[0m \u001b[0mrel\u001b[0m\u001b[0;34m.\u001b[0m\u001b[0mreltype\u001b[0m \u001b[0;34m==\u001b[0m \u001b[0mreltype\u001b[0m\u001b[0;34m]\u001b[0m\u001b[0;34m\u001b[0m\u001b[0;34m\u001b[0m\u001b[0m\n\u001b[0m\u001b[1;32m    114\u001b[0m         \u001b[0;32mif\u001b[0m \u001b[0mlen\u001b[0m\u001b[0;34m(\u001b[0m\u001b[0mmatching\u001b[0m\u001b[0;34m)\u001b[0m \u001b[0;34m==\u001b[0m \u001b[0;36m0\u001b[0m\u001b[0;34m:\u001b[0m\u001b[0;34m\u001b[0m\u001b[0;34m\u001b[0m\u001b[0m\n\u001b[1;32m    115\u001b[0m             \u001b[0mtmpl\u001b[0m \u001b[0;34m=\u001b[0m \u001b[0;34m\"no relationship of type '%s' in collection\"\u001b[0m\u001b[0;34m\u001b[0m\u001b[0;34m\u001b[0m\u001b[0m\n",
      "\u001b[0;31mKeyboardInterrupt\u001b[0m: "
     ]
    }
   ],
   "source": [
    "for table_index in tqdm(range(len(list(doc.tables)))[:]):\n",
    "    table = doc.tables[table_index]\n",
    "    for rowi in range(len(table.rows)):\n",
    "        row = table.rows[rowi]\n",
    "        for coli in range(len(row.cells)):\n",
    "            cell = row.cells[coli]\n",
    "            if rowi == 0:\n",
    "                for para in cell.paragraphs:\n",
    "                    if utils.get_style_name(para.style) == '表格-标题':\n",
    "                        print(table_index, para.text)\n",
    "                        "
   ]
  },
  {
   "cell_type": "code",
   "execution_count": 20,
   "id": "8091ac9f-50b6-489c-92eb-725f6573a01c",
   "metadata": {
    "scrolled": true,
    "tags": []
   },
   "outputs": [
    {
     "name": "stderr",
     "output_type": "stream",
     "text": [
      "  7%|███████▉                                                                                                              | 35/523 [00:00<00:11, 44.22it/s]"
     ]
    },
    {
     "name": "stdout",
     "output_type": "stream",
     "text": [
      "11.7.2  CIM_ATAPort（磁盘驱动器目标端口）\n",
      "0\n"
     ]
    },
    {
     "name": "stderr",
     "output_type": "stream",
     "text": [
      "\n"
     ]
    }
   ],
   "source": [
    "tmp = None\n",
    "for table_index in tqdm(range(len(list(doc.tables)))[200:]):\n",
    "    table = doc.tables[table_index]\n",
    "    for rowi in range(len(table.rows)):\n",
    "        row = table.rows[rowi]\n",
    "        for coli in range(len(row.cells)):\n",
    "            cell = row.cells[coli]\n",
    "            for para in cell.paragraphs:\n",
    "                if para.text.startswith('11.7'):\n",
    "                    print(para.text)\n",
    "                    print(para.paragraph_format.first_line_indent)\n",
    "                    tmp = para\n",
    "                    break\n",
    "            else:\n",
    "                continue\n",
    "            break\n",
    "        else:\n",
    "            continue\n",
    "        break\n",
    "    else:\n",
    "        continue\n",
    "    break"
   ]
  },
  {
   "cell_type": "code",
   "execution_count": 27,
   "id": "9971f7a1-d253-403b-b880-d2cb7b44eea3",
   "metadata": {},
   "outputs": [],
   "source": [
    "para.paragraph_format.space_before "
   ]
  },
  {
   "cell_type": "code",
   "execution_count": 32,
   "id": "888e5896-8f1b-4ee9-a6ed-1e543da403d4",
   "metadata": {},
   "outputs": [
    {
     "name": "stdout",
     "output_type": "stream",
     "text": [
      "0 __class__\n",
      "1 __delattr__\n",
      "2 __dir__\n",
      "3 __doc__\n",
      "4 __eq__\n",
      "5 __format__\n",
      "6 __ge__\n",
      "7 __getattribute__\n",
      "8 __gt__\n",
      "9 __hash__\n",
      "10 __init__\n",
      "11 __init_subclass__\n",
      "12 __le__\n",
      "13 __lt__\n",
      "14 __module__\n",
      "15 __ne__\n",
      "16 __new__\n",
      "17 __reduce__\n",
      "18 __reduce_ex__\n",
      "19 __repr__\n",
      "20 __setattr__\n",
      "21 __sizeof__\n",
      "22 __slots__\n",
      "23 __str__\n",
      "24 __subclasshook__\n",
      "25 _element\n",
      "26 _line_spacing\n",
      "27 _line_spacing_rule\n",
      "28 _parent\n",
      "29 _tab_stops\n",
      "30 alignment\n",
      "31 element\n",
      "32 first_line_indent\n",
      "33 keep_together\n",
      "34 keep_with_next\n",
      "35 left_indent\n",
      "36 line_spacing\n",
      "37 line_spacing_rule\n",
      "38 page_break_before\n",
      "39 part\n",
      "40 right_indent\n",
      "41 space_after\n",
      "42 space_before\n",
      "43 tab_stops\n",
      "44 widow_control\n"
     ]
    }
   ],
   "source": [
    "for key,chdir in enumerate(dir(para.paragraph_format)):\n",
    "    print(key,chdir)"
   ]
  },
  {
   "cell_type": "code",
   "execution_count": 52,
   "id": "cad538d8-0480-46b5-9d1c-83e3c0ed5fad",
   "metadata": {},
   "outputs": [],
   "source": [
    "para.paragraph_format.widow_control"
   ]
  },
  {
   "cell_type": "code",
   "execution_count": 51,
   "id": "cfabae5b-459b-46a4-a76f-a71b904c5708",
   "metadata": {},
   "outputs": [
    {
     "name": "stdout",
     "output_type": "stream",
     "text": [
      "0 __class__\n",
      "1 __delattr__\n",
      "2 __delitem__\n",
      "3 __dir__\n",
      "4 __doc__\n",
      "5 __eq__\n",
      "6 __format__\n",
      "7 __ge__\n",
      "8 __getattribute__\n",
      "9 __getitem__\n",
      "10 __gt__\n",
      "11 __hash__\n",
      "12 __init__\n",
      "13 __init_subclass__\n",
      "14 __iter__\n",
      "15 __le__\n",
      "16 __len__\n",
      "17 __lt__\n",
      "18 __module__\n",
      "19 __ne__\n",
      "20 __new__\n",
      "21 __reduce__\n",
      "22 __reduce_ex__\n",
      "23 __repr__\n",
      "24 __setattr__\n",
      "25 __sizeof__\n",
      "26 __slots__\n",
      "27 __str__\n",
      "28 __subclasshook__\n",
      "29 _element\n",
      "30 _pPr\n",
      "31 _parent\n",
      "32 add_tab_stop\n",
      "33 clear_all\n",
      "34 element\n",
      "35 part\n"
     ]
    }
   ],
   "source": [
    "for key,chdir in enumerate(dir(para.paragraph_format.tab_stops)):\n",
    "    print(key,chdir)"
   ]
  },
  {
   "cell_type": "code",
   "execution_count": null,
   "id": "5e2d3293-b188-4ae8-a6e8-74d8bf955601",
   "metadata": {},
   "outputs": [],
   "source": []
  }
 ],
 "metadata": {
  "kernelspec": {
   "display_name": "Python 3 (ipykernel)",
   "language": "python",
   "name": "python3"
  },
  "language_info": {
   "codemirror_mode": {
    "name": "ipython",
    "version": 3
   },
   "file_extension": ".py",
   "mimetype": "text/x-python",
   "name": "python",
   "nbconvert_exporter": "python",
   "pygments_lexer": "ipython3",
   "version": "3.8.5"
  }
 },
 "nbformat": 4,
 "nbformat_minor": 5
}
