{
 "cells": [
  {
   "cell_type": "code",
   "execution_count": 1,
   "metadata": {},
   "outputs": [],
   "source": [
    "import docx"
   ]
  },
  {
   "cell_type": "code",
   "execution_count": 7,
   "metadata": {},
   "outputs": [],
   "source": [
    "doc = docx.Document('/home/gray/desktop/test2.docx')"
   ]
  },
  {
   "cell_type": "code",
   "execution_count": 8,
   "metadata": {},
   "outputs": [
    {
     "name": "stdout",
     "output_type": "stream",
     "text": [
      "-----\n",
      "图1\n",
      "-----\n",
      "图2\n",
      "-----\n",
      "图3\n",
      "-----\n",
      "图4\n",
      "-----\n",
      "图5\n",
      "-----\n",
      "图6\n",
      "-----\n",
      "图7\n",
      "-----\n",
      "图8\n",
      "-----\n",
      "表 3251 存储服务器不对称CIM元素\n",
      "-----\n",
      "\n",
      "-----\n",
      "\n"
     ]
    }
   ],
   "source": [
    "for para in doc.paragraphs:\n",
    "    print('-----')\n",
    "    print(para.text)"
   ]
  },
  {
   "cell_type": "code",
   "execution_count": 9,
   "metadata": {},
   "outputs": [],
   "source": [
    "for i in range(9):\n",
    "    for para in doc.paragraphs:\n",
    "        para.text = para.text.replace(str(9-i), str(9-i+1))"
   ]
  },
  {
   "cell_type": "code",
   "execution_count": 27,
   "metadata": {},
   "outputs": [
    {
     "data": {
      "text/plain": [
       "1"
      ]
     },
     "execution_count": 27,
     "metadata": {},
     "output_type": "execute_result"
    }
   ],
   "source": [
    "len(list(doc.tables))"
   ]
  },
  {
   "cell_type": "code",
   "execution_count": 10,
   "metadata": {},
   "outputs": [
    {
     "name": "stdout",
     "output_type": "stream",
     "text": [
      "{'是': ['必选的'], '强制的': ['必选的'], '强制': ['必选的'], '强制性的': ['必选的'], '强制性': ['必选的'], '必需的': ['必选的'], '必选': ['必选的'], '条件选择': ['有条件的'], '条件': ['有条件的'], '条件的': ['有条件的'], '否': ['可选的'], '可选': ['可选的'], '任选的': ['可选的'], '任选': ['可选的'], '需求': ['要求']}\n"
     ]
    }
   ],
   "source": [
    "# generate codes\n",
    "pair = {'必选的':['是','强制的','强制','强制性的','强制性','必需的','必选'],\n",
    "       '有条件的':['条件选择','条件','条件的'],\n",
    "       '可选的':['否','可选','任选的','任选'],\n",
    "       '要求':['需求']}\n",
    "\n",
    "replace = {}\n",
    "for key in pair.keys():\n",
    "    for v in pair[key]:\n",
    "        replace[v] = [key]\n",
    "\n",
    "print(replace)"
   ]
  },
  {
   "cell_type": "code",
   "execution_count": 22,
   "metadata": {},
   "outputs": [],
   "source": [
    "data = []\n",
    "for table in doc.tables:\n",
    "    for row in table.rows:\n",
    "        for cell in row.cells:\n",
    "            # if cell.text.strip() in replace.keys():\n",
    "            data.append(cell.text.strip())"
   ]
  },
  {
   "cell_type": "code",
   "execution_count": 19,
   "metadata": {},
   "outputs": [],
   "source": [
    "for table in doc.tables:\n",
    "    for row in table.rows:\n",
    "        for cell in row.cells:\n",
    "            if cell.text.strip() in replace.keys():\n",
    "                cell.text = replace[cell.text.strip()]"
   ]
  },
  {
   "cell_type": "code",
   "execution_count": 21,
   "metadata": {},
   "outputs": [],
   "source": [
    "doc.save('/home/gray/desktop/after2.docx')"
   ]
  },
  {
   "cell_type": "code",
   "execution_count": 24,
   "metadata": {},
   "outputs": [
    {
     "data": {
      "text/plain": [
       "['元件名称',\n",
       " '要求',\n",
       " '说明',\n",
       " '16.6.2 CIM_AsymmetricAccessibility',\n",
       " '必选的',\n",
       " '该关联表示通过关联的TargetPortGroup中的端口可以访问StorageResourceLoadGroup中的StorageVolumes',\n",
       " '16.6.3 CIM_ElementCapabilities (To Top-level ComputerSystem)',\n",
       " '必选的',\n",
       " '',\n",
       " '16.6.4 CIM_HostedCollection (Top-Level System to Load Group)',\n",
       " '必选的',\n",
       " '将StorageResourceLoadGroup的实例关联到Top-Level ComputerSystem。使客户端无需首先遍历每个存储处理器计算机系统就可以找到这些组。',\n",
       " '16.6.5 CIM_HostedCollection (Top-Level System to Port Group)',\n",
       " '必选的',\n",
       " '关联the Top-Level ComputerSystem与TargetPortGroup的实例，并在没有首次搜索每一个Storage  Processor ComputerSystem时，使得客户端能够发现TargetPortGroup 组。',\n",
       " '16.6.6 CIM_MemberOfCollection (SATA Target Port Group)',\n",
       " '必选的',\n",
       " '要求条件：要求用TargetPortGroup聚合CIM_ProtocolEndpoint，用于在一个Target Port Group内聚合Target Port Group。',\n",
       " '16.6.7 CIM_MemberOfCollection (SB Target Port Group)',\n",
       " '有条件的',\n",
       " '要求条件：要求用TargetPortGroup聚合SNIA_SBProtocolEndpoint，用于在一个Target Port Group内聚合SB Target Ports',\n",
       " '16.6.8 CIM_MemberOfCollection(SCSI\\nTarget Port Group)',\n",
       " '有条件的',\n",
       " '要求条件：要求用TargetPortGroup聚合CIM_SCSIProtocolEndpoint；或\\n要求用TargetPortGroup聚合CIM_SCSIProtocolEndpoint；或\\n要求用TargetPortGroup聚合CIM_SCSIProtocolEndpoint；或\\n要求用TargetPortGroup聚合CIM_SCSIProtocolEndpoint。\\n用于在一个Target Port Group内聚合DA, FC, SPI, or SAS Target Ports',\n",
       " '16.6.9 CIM_MemberOfCollection (Storage Resource Load Group aggregating Storage Pools)',\n",
       " '有条件的',\n",
       " '要求条件：要求用StorageResourceLoadGroup聚合CIM_StoragePool，并将Storage Pool聚合在一个Storage Resource Load Group',\n",
       " '16.6.10 CIM_MemberOfCollection (Storage Resource Load Group aggregating Storage Volumes)',\n",
       " '有条件的',\n",
       " '要求条件：要求用StorageResourceLoadGroup聚合CIM_StorageVolume，并将Storage Volumes聚合在一个Storage Resource Load Group',\n",
       " '16.6.11 CIM_MemberOfCollection (iSCSI Target Port Group)',\n",
       " '有条件的',\n",
       " '要求条件：要求用TargetPortGroup聚合CIM_iSCSIProtocolEndpoint，用于在一个Target Port Group内聚合iSCSI Target Ports',\n",
       " '16.6.12 CIM_StorageConfigurationService',\n",
       " '可选的',\n",
       " '',\n",
       " '16.6.13 CIM_StorageProcessorAffiniy (StorageResourceLoadGroup)',\n",
       " '必选的',\n",
       " '指示用冗余存储服务器里的存储处理器所代表的一个ComputerSystem与TargetPortGroup间的进程相关性和状态。该处理器可以置组处于正常或故障接管状态。且在 RedundancySet里的每一个StorageResourceLoadGroup和ComPuterSystem 的组合所关联的实例是静态的的。']"
      ]
     },
     "execution_count": 24,
     "metadata": {},
     "output_type": "execute_result"
    }
   ],
   "source": [
    "data"
   ]
  },
  {
   "cell_type": "code",
   "execution_count": 39,
   "metadata": {},
   "outputs": [
    {
     "data": {
      "text/plain": [
       "69"
      ]
     },
     "execution_count": 39,
     "metadata": {},
     "output_type": "execute_result"
    }
   ],
   "source": [
    "len(data)"
   ]
  }
 ],
 "metadata": {
  "interpreter": {
   "hash": "e7370f93d1d0cde622a1f8e1c04877d8463912d04d973331ad4851f04de6915a"
  },
  "kernelspec": {
   "display_name": "Python 3 (ipykernel)",
   "language": "python",
   "name": "python3"
  },
  "language_info": {
   "codemirror_mode": {
    "name": "ipython",
    "version": 3
   },
   "file_extension": ".py",
   "mimetype": "text/x-python",
   "name": "python",
   "nbconvert_exporter": "python",
   "pygments_lexer": "ipython3",
   "version": "3.8.5"
  }
 },
 "nbformat": 4,
 "nbformat_minor": 4
}
