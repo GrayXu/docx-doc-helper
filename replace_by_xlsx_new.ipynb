{
 "cells": [
  {
   "cell_type": "code",
   "execution_count": 1,
   "id": "81cd1188-46de-421b-8e8d-08a2d79a2a52",
   "metadata": {},
   "outputs": [],
   "source": [
    "'''\n",
    "this one is designed for 3rd round 2021\n",
    "'''\n",
    "import csv\n",
    "import docx\n",
    "from tqdm import tqdm\n",
    "import utils\n",
    "import xlrd"
   ]
  },
  {
   "cell_type": "code",
   "execution_count": 2,
   "id": "b9aefaf0-5868-4cf2-ad7b-948cbd14faca",
   "metadata": {},
   "outputs": [],
   "source": [
    "# config\n",
    "xlsx_path = '/mnt/c/Users/gray/seadrive_root/mail_1/我的资料库/mine/STANDARD/第三次会议/11.17版本 python自动化merge的base.xlsx'\n",
    "\n",
    "# in_path = '/home/gray/desktop/STANDARD/test2.docx' # example\n",
    "in_path = '/mnt/c/Users/gray/seadrive_root/mail_1/我的资料库/mine/STANDARD/第三次会议/11.18 2.docx'\n",
    "\n",
    "out_path = '/mnt/c/Users/gray/seadrive_root/mail_1/我的资料库/mine/STANDARD/第三次会议/out.docx'\n",
    "\n",
    "doc = docx.Document(in_path)"
   ]
  },
  {
   "cell_type": "code",
   "execution_count": 3,
   "id": "fe23ed57-6c6a-401c-bd8b-37a90295d311",
   "metadata": {},
   "outputs": [],
   "source": [
    "replace = {}\n",
    "workbook = xlrd.open_workbook(filename=xlsx_path)\n",
    "worksheet = workbook.sheet_by_name(workbook.sheet_names()[0])"
   ]
  },
  {
   "cell_type": "code",
   "execution_count": 4,
   "id": "84fddae0-bc49-41c9-bbde-8a9c8c4bf2bc",
   "metadata": {},
   "outputs": [
    {
     "name": "stderr",
     "output_type": "stream",
     "text": [
      "100%|█████████████████████████████████████████████████████████████████████████████| 603/603 [00:00<00:00, 402093.05it/s]\n"
     ]
    }
   ],
   "source": [
    "for i in tqdm(range(3, worksheet.nrows)):\n",
    "    \n",
    "    row = worksheet.row_values(i)\n",
    "    \n",
    "    # add auto-summit flag in row[0] so having increment all index\n",
    "    sec_num = utils.get_sec_num_new(str(row[2]),from_head=True)\n",
    "    pre_result = row[8]  # 0 -> deny, 1-> yes\n",
    "    discuss = row[9]  # discuss flag\n",
    "    \n",
    "    if pre_result == '' and discuss == '':\n",
    "        replace[row[3]] = row[4]"
   ]
  },
  {
   "cell_type": "code",
   "execution_count": 5,
   "id": "fe586069-57d2-401b-8183-ed113525c303",
   "metadata": {},
   "outputs": [
    {
     "data": {
      "text/plain": [
       "[('插入到底板或是母板的系统应该使用主机硬件RAID。',\n",
       "  '插入到背板或是主板的系统应该使用“存储管理技术规范，第7部分 主机元素1.8.0版本4中的8 主机硬件RAID控制器配置文件。'),\n",
       " ('目标端口通过那些对主机有用的逻辑单元数(LUN)来组成配置文件模型的端口部分(例如，iSCSI的光纤通道)。',\n",
       "  '目标端口组件配置文件对端口（例如，是光纤通道还是iSCSI）进行建模，逻辑单元号(LUN)通过端口为主机所使用。')]"
      ]
     },
     "execution_count": 5,
     "metadata": {},
     "output_type": "execute_result"
    }
   ],
   "source": [
    "list(replace.items())[:2]"
   ]
  },
  {
   "cell_type": "code",
   "execution_count": 6,
   "id": "17ad1725-335a-498a-b381-39f87c56fb99",
   "metadata": {},
   "outputs": [],
   "source": [
    "# replace没有区分正文和表格，做个safety check\n",
    "track_replace = {}\n",
    "for k in replace.keys():\n",
    "    track_replace[k] = 0"
   ]
  },
  {
   "cell_type": "code",
   "execution_count": 7,
   "id": "d5ac88e1-29c6-4791-ab7c-65b1c318544e",
   "metadata": {},
   "outputs": [
    {
     "name": "stderr",
     "output_type": "stream",
     "text": [
      "100%|████████████████████████████████████████████████████████████████████████████| 12054/12054 [00:20<00:00, 594.75it/s]\n"
     ]
    }
   ],
   "source": [
    "# replace in text paragraphs\n",
    "for para in tqdm(list(doc.paragraphs)):\n",
    "    for a,b in replace.items():\n",
    "        if a != '' and a in para.text:\n",
    "            utils.replace_para_text(para,a,b)\n",
    "            track_replace[a] += 1"
   ]
  },
  {
   "cell_type": "code",
   "execution_count": 8,
   "id": "ef8b0160-909e-46ae-8378-048ee35879fc",
   "metadata": {},
   "outputs": [
    {
     "name": "stderr",
     "output_type": "stream",
     "text": [
      "100%|█████████████████████████████████████████████████████████████████████████████████| 723/723 [00:41<00:00, 17.52it/s]\n"
     ]
    }
   ],
   "source": [
    "# replace in tables\n",
    "for table_index in tqdm(range(len(list(doc.tables)))):\n",
    "    table = doc.tables[table_index]\n",
    "    for row in table.rows:\n",
    "        for cell in row.cells:\n",
    "            for para in cell.paragraphs:\n",
    "                for a,b in replace.items():\n",
    "                    if a!='' and a in para.text: # do replace\n",
    "                        utils.replace_para_text(para,a,b)\n",
    "                        track_replace[a] += 1"
   ]
  },
  {
   "cell_type": "code",
   "execution_count": 9,
   "id": "3e3215f3-13d3-4b26-a5ab-6ca1e4eed5a9",
   "metadata": {
    "tags": []
   },
   "outputs": [
    {
     "name": "stdout",
     "output_type": "stream",
     "text": [
      "4.6.5 CIM_ProtocolControllerForUnit项(从所有逻辑单元数来看任意的逻辑单元) 0\n",
      "--------------------\n",
      " 0\n",
      "--------------------\n",
      "应使用元素一致性文件关联与注册的配置文件关联 0\n",
      "--------------------\n",
      "每个存储容量存储设备或应用程序块都有一个状态。存储空间和逻辑盘中所描述的存储内容，是与块不同的集团 0\n",
      "--------------------\n",
      "存储空间是存储容量，须从制度暴露通过外部接口分配 0\n",
      "--------------------\n",
      "9.1.23瘦供给元素 0\n",
      "--------------------\n",
      "这个版本用存储复制性能性能类实例来说明复制服务性能 0\n",
      "--------------------\n",
      "客户应参考25.3，了解利用存储分层服务的步骤列表。 0\n",
      "--------------------\n",
      "错误!未找到引用源。显示此属性的可能值。 0\n",
      "--------------------\n",
      "错误!未找到引用源。总结了外部方法： 0\n",
      "--------------------\n"
     ]
    }
   ],
   "source": [
    "# check 0\n",
    "for k,v in track_replace.items():\n",
    "    if v != 1:\n",
    "        print(k,v)\n",
    "        print('--------------------')"
   ]
  },
  {
   "cell_type": "code",
   "execution_count": 10,
   "id": "469d9b84-ddc7-4add-9b0f-3428cb99d0d7",
   "metadata": {},
   "outputs": [
    {
     "data": {
      "text/plain": [
       "174"
      ]
     },
     "execution_count": 10,
     "metadata": {},
     "output_type": "execute_result"
    }
   ],
   "source": [
    "len(track_replace)"
   ]
  },
  {
   "cell_type": "code",
   "execution_count": 11,
   "id": "80f2bb70-c3f0-4216-8696-3e34a15dd2e1",
   "metadata": {},
   "outputs": [
    {
     "name": "stdout",
     "output_type": "stream",
     "text": [
      "10\n"
     ]
    }
   ],
   "source": [
    "def is_zero(n):\n",
    "    return n == 0\n",
    "\n",
    "tmp_zero = list(filter(is_zero,[v for v in track_replace.values()]))\n",
    "print(len(tmp_zero))"
   ]
  },
  {
   "cell_type": "code",
   "execution_count": 12,
   "id": "705da5eb-b2f9-45f7-bd60-3e498c2c1b89",
   "metadata": {},
   "outputs": [],
   "source": [
    "doc.save(out_path)"
   ]
  },
  {
   "cell_type": "code",
   "execution_count": null,
   "id": "33d29543-3fd8-47ab-af8d-b7f4a9c0e49d",
   "metadata": {},
   "outputs": [],
   "source": []
  }
 ],
 "metadata": {
  "kernelspec": {
   "display_name": "Python 3 (ipykernel)",
   "language": "python",
   "name": "python3"
  },
  "language_info": {
   "codemirror_mode": {
    "name": "ipython",
    "version": 3
   },
   "file_extension": ".py",
   "mimetype": "text/x-python",
   "name": "python",
   "nbconvert_exporter": "python",
   "pygments_lexer": "ipython3",
   "version": "3.8.5"
  }
 },
 "nbformat": 4,
 "nbformat_minor": 5
}
