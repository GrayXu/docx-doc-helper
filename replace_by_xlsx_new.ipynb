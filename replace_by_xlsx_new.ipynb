{
 "cells": [
  {
   "cell_type": "code",
   "execution_count": 1,
   "id": "81cd1188-46de-421b-8e8d-08a2d79a2a52",
   "metadata": {},
   "outputs": [],
   "source": [
    "'''\n",
    "Auto apply changes to docx from xlsx\n",
    "\n",
    "this one is designed for 3rd round 2021\n",
    "\n",
    "this one is designed for 4rd round 2022\n",
    "'''\n",
    "import csv\n",
    "import docx\n",
    "from tqdm import tqdm\n",
    "import utils\n",
    "import xlrd"
   ]
  },
  {
   "cell_type": "code",
   "execution_count": 3,
   "id": "b9aefaf0-5868-4cf2-ad7b-948cbd14faca",
   "metadata": {},
   "outputs": [],
   "source": [
    "# config\n",
    "xlsx_path = '/mnt/c/Users/gray/seadrive_root/mail_1/我的资料库/mine/STANDARD/第四次会议/ALL.xlsx'\n",
    "\n",
    "# in_path = '/home/gray/desktop/STANDARD/test2.docx' # example\n",
    "in_path = '/mnt/c/Users/gray/seadrive_root/mail_1/我的资料库/mine/STANDARD/第四次会议/4.7.docx'\n",
    "\n",
    "out_path = '/mnt/c/Users/gray/seadrive_root/mail_1/我的资料库/mine/STANDARD/第四次会议/out.docx'\n",
    "\n",
    "doc = docx.Document(in_path)"
   ]
  },
  {
   "cell_type": "code",
   "execution_count": 8,
   "id": "fe23ed57-6c6a-401c-bd8b-37a90295d311",
   "metadata": {},
   "outputs": [],
   "source": [
    "replace = {}\n",
    "workbook = xlrd.open_workbook(filename=xlsx_path)\n",
    "worksheet = workbook.sheet_by_name(workbook.sheet_names()[0])"
   ]
  },
  {
   "cell_type": "code",
   "execution_count": 9,
   "id": "84fddae0-bc49-41c9-bbde-8a9c8c4bf2bc",
   "metadata": {},
   "outputs": [
    {
     "name": "stderr",
     "output_type": "stream",
     "text": [
      "100%|█████████████████████████████████████████████████████████████████████████████████████████████████████████████████| 525/525 [00:00<00:00, 399131.70it/s]\n"
     ]
    }
   ],
   "source": [
    "for i in tqdm(range(3, worksheet.nrows)):\n",
    "    \n",
    "    row = worksheet.row_values(i)\n",
    "    \n",
    "    # add auto-summit flag in row[0] so having increment all index\n",
    "    sec_num = utils.get_sec_num_new(str(row[1]),from_head=True)\n",
    "    pre_result = row[7]  # 0 -> deny, 1-> yes, 2->discuss, -1->auto\n",
    "    \n",
    "#     discuss = row[8]  # discuss flag\n",
    "    \n",
    "    if pre_result == '-1': # match case\n",
    "        replace[row[2]] = row[3]"
   ]
  },
  {
   "cell_type": "code",
   "execution_count": 10,
   "id": "fe586069-57d2-401b-8183-ed113525c303",
   "metadata": {},
   "outputs": [
    {
     "name": "stdout",
     "output_type": "stream",
     "text": [
      "144\n",
      "[('使用外部存储或是本地与外部混合的存储的系统称为存储虚拟器。', '存储虚拟器是指外部存储系统或者本地和外部混合的存储系统。'), ('健康和故障管理注意事项在参考的配置文件和包中被描述', '健康和故障管理注意事项在参考的配置文件和包中描述。')]\n"
     ]
    }
   ],
   "source": [
    "print(len(replace))\n",
    "print(list(replace.items())[:2])"
   ]
  },
  {
   "cell_type": "code",
   "execution_count": 11,
   "id": "17ad1725-335a-498a-b381-39f87c56fb99",
   "metadata": {},
   "outputs": [],
   "source": [
    "# replace没有区分正文和表格，做个safety check\n",
    "track_replace = {}\n",
    "for k in replace.keys():\n",
    "    track_replace[k] = 0"
   ]
  },
  {
   "cell_type": "code",
   "execution_count": 12,
   "id": "d5ac88e1-29c6-4791-ab7c-65b1c318544e",
   "metadata": {},
   "outputs": [
    {
     "name": "stderr",
     "output_type": "stream",
     "text": [
      "100%|████████████████████████████████████████████████████████████████████████████████████████████████████████████████| 11872/11872 [00:29<00:00, 396.99it/s]\n"
     ]
    }
   ],
   "source": [
    "# replace in text paragraphs\n",
    "for para in tqdm(list(doc.paragraphs)):\n",
    "    for a,b in replace.items():\n",
    "        if a != '' and a in para.text:\n",
    "            utils.replace_para_text(para,a,b)\n",
    "            track_replace[a] += 1"
   ]
  },
  {
   "cell_type": "code",
   "execution_count": 13,
   "id": "ef8b0160-909e-46ae-8378-048ee35879fc",
   "metadata": {},
   "outputs": [
    {
     "name": "stderr",
     "output_type": "stream",
     "text": [
      "100%|█████████████████████████████████████████████████████████████████████████████████████████████████████████████████████| 931/931 [01:04<00:00, 14.33it/s]\n"
     ]
    }
   ],
   "source": [
    "# replace in tables\n",
    "for table_index in tqdm(range(len(list(doc.tables)))):\n",
    "    table = doc.tables[table_index]\n",
    "    for row in table.rows:\n",
    "        for cell in row.cells:\n",
    "            for para in cell.paragraphs:\n",
    "                for a,b in replace.items():\n",
    "                    if a!='' and a in para.text: # do replace\n",
    "                        utils.replace_para_text(para,a,b)\n",
    "                        track_replace[a] += 1"
   ]
  },
  {
   "cell_type": "code",
   "execution_count": 14,
   "id": "3e3215f3-13d3-4b26-a5ab-6ca1e4eed5a9",
   "metadata": {
    "tags": []
   },
   "outputs": [
    {
     "name": "stdout",
     "output_type": "stream",
     "text": [
      "\"创建一个具体的StoragePool时，其存储容量直接或间接地从一个原始StoragePool获取。 0\n",
      "--------------------\n",
      "StoragePool实例提供了在给定StorageSetting作为一个目标的前提下，获取创建或者修改StorageVolume或者LogicalDisk时的可能大小的能力， 0\n",
      "--------------------\n",
      "用法值含义 2\n",
      "--------------------\n",
      "被删除状态 0\n",
      "--------------------\n",
      "(最后三段在英文版中没有找到对应？) 0\n",
      "--------------------\n",
      "InitialReplicationState是“Idle”值。 0\n",
      "--------------------\n",
      "一个灭有设备映射和屏蔽服务 0\n",
      "--------------------\n",
      " 0\n",
      "--------------------\n",
      "联合目标元素复制到源元素。 2\n",
      "--------------------\n",
      "一个组成池的能力会减弱通过提供引用给别人，但不是全部，只是对现有存储池的分量， 0\n",
      "--------------------\n"
     ]
    }
   ],
   "source": [
    "# check 0\n",
    "for k,v in track_replace.items():\n",
    "    if v != 1:\n",
    "        print(k,v)\n",
    "        print('--------------------')"
   ]
  },
  {
   "cell_type": "code",
   "execution_count": 15,
   "id": "469d9b84-ddc7-4add-9b0f-3428cb99d0d7",
   "metadata": {},
   "outputs": [
    {
     "data": {
      "text/plain": [
       "144"
      ]
     },
     "execution_count": 15,
     "metadata": {},
     "output_type": "execute_result"
    }
   ],
   "source": [
    "len(track_replace)"
   ]
  },
  {
   "cell_type": "code",
   "execution_count": 16,
   "id": "80f2bb70-c3f0-4216-8696-3e34a15dd2e1",
   "metadata": {},
   "outputs": [
    {
     "name": "stdout",
     "output_type": "stream",
     "text": [
      "8\n"
     ]
    }
   ],
   "source": [
    "def is_zero(n):\n",
    "    return n == 0\n",
    "\n",
    "tmp_zero = list(filter(is_zero,[v for v in track_replace.values()]))\n",
    "print(len(tmp_zero))"
   ]
  },
  {
   "cell_type": "code",
   "execution_count": 17,
   "id": "705da5eb-b2f9-45f7-bd60-3e498c2c1b89",
   "metadata": {},
   "outputs": [],
   "source": [
    "doc.save(out_path)"
   ]
  },
  {
   "cell_type": "code",
   "execution_count": null,
   "id": "33d29543-3fd8-47ab-af8d-b7f4a9c0e49d",
   "metadata": {},
   "outputs": [],
   "source": []
  }
 ],
 "metadata": {
  "kernelspec": {
   "display_name": "Python 3 (ipykernel)",
   "language": "python",
   "name": "python3"
  },
  "language_info": {
   "codemirror_mode": {
    "name": "ipython",
    "version": 3
   },
   "file_extension": ".py",
   "mimetype": "text/x-python",
   "name": "python",
   "nbconvert_exporter": "python",
   "pygments_lexer": "ipython3",
   "version": "3.8.5"
  }
 },
 "nbformat": 4,
 "nbformat_minor": 5
}
