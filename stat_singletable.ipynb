{
 "cells": [
  {
   "cell_type": "code",
   "execution_count": 1,
   "id": "ae44c1e8-d6ab-4e9f-bbba-06918476c64c",
   "metadata": {},
   "outputs": [],
   "source": [
    "'''\n",
    "对单表做简单的预处理意见结果统计。\n",
    "注意提出单位在第4列，预处理意见在第7列。（从0开始算）\n",
    "'''\n",
    "\n",
    "import xlrd\n",
    "import os"
   ]
  },
  {
   "cell_type": "code",
   "execution_count": 2,
   "id": "eab38bf6-87a9-42c9-8aa6-e9e555f75030",
   "metadata": {},
   "outputs": [],
   "source": [
    "path = '/home/gray/gray_win/seadrive_root/mail_1/我的资料库/mine/STANDARD/第四次会议/ALL.xlsx'"
   ]
  },
  {
   "cell_type": "code",
   "execution_count": 4,
   "id": "b74c458d-fa30-43b0-9ae1-113d3d02a38d",
   "metadata": {},
   "outputs": [],
   "source": [
    "workbook = xlrd.open_workbook(filename=path)"
   ]
  },
  {
   "cell_type": "code",
   "execution_count": 6,
   "id": "13171b34-7974-4da5-ace0-5938806b274f",
   "metadata": {},
   "outputs": [],
   "source": [
    "sheet_names = workbook.sheet_names()\n",
    "sname = sheet_names[0]\n",
    "worksheet  = workbook.sheet_by_name(sname)"
   ]
  },
  {
   "cell_type": "code",
   "execution_count": 21,
   "id": "5fca7510-c889-43b2-8cc1-0ad6107e2455",
   "metadata": {},
   "outputs": [],
   "source": [
    "invalid_keys = ['','华中科技大学','提出单位']\n",
    "\n",
    "stat = {}\n",
    "\n",
    "mapping = {1:'采纳', 2:'待议', 0:'不采纳'}\n",
    "\n",
    "for i in range(worksheet.nrows):       \n",
    "    org = worksheet.row_values(i)[4]\n",
    "    result = worksheet.row_values(i)[7]\n",
    "    \n",
    "    if org in invalid_keys:\n",
    "        continue\n",
    "    \n",
    "    result = 1 if int(result) == -1 else int(result)\n",
    "    \n",
    "    if org not in stat.keys():\n",
    "        stat[org] = {}\n",
    "    if result not in stat[org].keys():\n",
    "        stat[org][result] = 0\n",
    "        \n",
    "    stat[org][result] += 1"
   ]
  },
  {
   "cell_type": "code",
   "execution_count": 22,
   "id": "5a89f377-ca3d-4a83-983b-ceefb95d7937",
   "metadata": {},
   "outputs": [
    {
     "data": {
      "text/plain": [
       "{'华为技术有限公司': {2: 5, 1: 38},\n",
       " '长虹佳华': {2: 8, 1: 74},\n",
       " '易安信信息技术研发（北京）有限公司': {1: 140, 2: 6, 0: 2},\n",
       " '西北工业大学': {0: 5, 1: 184, 2: 2},\n",
       " '浪潮': {1: 4, 2: 2},\n",
       " '地大': {1: 48, 2: 3}}"
      ]
     },
     "execution_count": 22,
     "metadata": {},
     "output_type": "execute_result"
    }
   ],
   "source": [
    "stat"
   ]
  },
  {
   "cell_type": "code",
   "execution_count": 18,
   "id": "9f60b84e-6b0b-4cf3-ad24-fbad6f961ba0",
   "metadata": {},
   "outputs": [
    {
     "data": {
      "text/plain": [
       "'采纳'"
      ]
     },
     "execution_count": 18,
     "metadata": {},
     "output_type": "execute_result"
    }
   ],
   "source": [
    "mapping[result]"
   ]
  },
  {
   "cell_type": "code",
   "execution_count": null,
   "id": "2597d5c0-16f1-4790-aeaf-e683216822fd",
   "metadata": {},
   "outputs": [],
   "source": []
  }
 ],
 "metadata": {
  "kernelspec": {
   "display_name": "Python 3 (ipykernel)",
   "language": "python",
   "name": "python3"
  },
  "language_info": {
   "codemirror_mode": {
    "name": "ipython",
    "version": 3
   },
   "file_extension": ".py",
   "mimetype": "text/x-python",
   "name": "python",
   "nbconvert_exporter": "python",
   "pygments_lexer": "ipython3",
   "version": "3.8.5"
  }
 },
 "nbformat": 4,
 "nbformat_minor": 5
}
